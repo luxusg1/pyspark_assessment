{
 "cells": [
  {
   "cell_type": "code",
   "execution_count": 84,
   "outputs": [],
   "source": [
    "# import all necessary package\n",
    "\n",
    "from pyspark.sql import SparkSession\n",
    "from pyspark.sql import functions as sf\n",
    "import pandas as pd"
   ],
   "metadata": {
    "collapsed": false
   }
  },
  {
   "cell_type": "code",
   "execution_count": 3,
   "outputs": [],
   "source": [
    "# create session\n",
    "spark = SparkSession.builder.appName('ExoPySpark').getOrCreate()"
   ],
   "metadata": {
    "collapsed": false
   }
  },
  {
   "cell_type": "code",
   "execution_count": 85,
   "outputs": [],
   "source": [
    "# create a temporary table for each csv file\n",
    "dir = 'Exo_PySpark'\n",
    "\n",
    "data_path_dict = {\n",
    "    'traffic':f'{dir}/fichier1_trafic.csv',\n",
    "    'topologie':f'{dir}/fichier2_topologie.csv',\n",
    "    'geographique':f'{dir}/fichier3_Donnees_geographique.csv',\n",
    "    'isis':f'{dir}/fichier4_couts_ISIS.csv'\n",
    "}\n",
    "\n",
    "for table_name , path in data_path_dict.items():\n",
    "    spark.read.option('header',True).csv(path).createOrReplaceTempView(table_name)\n"
   ],
   "metadata": {
    "collapsed": false
   }
  },
  {
   "cell_type": "code",
   "execution_count": 86,
   "outputs": [
    {
     "data": {
      "text/plain": "[Table(name='geographique', database=None, description=None, tableType='TEMPORARY', isTemporary=True),\n Table(name='isis', database=None, description=None, tableType='TEMPORARY', isTemporary=True),\n Table(name='topologie', database=None, description=None, tableType='TEMPORARY', isTemporary=True),\n Table(name='traffic', database=None, description=None, tableType='TEMPORARY', isTemporary=True)]"
     },
     "execution_count": 86,
     "metadata": {},
     "output_type": "execute_result"
    }
   ],
   "source": [
    "# check if all tables are included\n",
    "spark.catalog.listTables()"
   ],
   "metadata": {
    "collapsed": false
   }
  },
  {
   "cell_type": "code",
   "execution_count": 101,
   "outputs": [],
   "source": [
    "# Filter on file 2\n",
    "topologie = spark.table('topologie')\n",
    "isis =  spark.table('isis')\n",
    "geographique = spark.table('geographique')\n",
    "traffic = spark.table('traffic')\n",
    "\n",
    "# Issues :\n",
    "# there is row with admin_state_port = Connexion KO\n",
    "# Is the filter expression the best way to do the task\n",
    "\n",
    "\n",
    "sub_topologie = topologie.filter(\"equipement LIKE 'PTN%' AND client LIKE '%PTN%' AND admin_state_port!='down' AND vlan=='NA' AND type_port_ou_mda == '10G'\")\\\n",
    "    .withColumn('id_lien', sf.concat(topologie.equipement, sf.lit('_'), topologie.client))\\\n",
    "    .select('equipement', 'client', 'port', 'portlldp', 'interface_netwk', 'port_lag_netwk')"
   ],
   "metadata": {
    "collapsed": false
   }
  },
  {
   "cell_type": "code",
   "execution_count": 102,
   "outputs": [],
   "source": [
    "# step to follow\n",
    "# function which add a string value to the column name of a spark dataframe\n",
    "def add_to_col_name(df, value):\n",
    "    return [column_name + value for column_name in df.columns]\n",
    "\n",
    "# 1. merge topology table filtered result with isis using inner join by (nom_equipement, port, interface_netwk)\n",
    "\n",
    "isis_renamed = isis.withColumnRenamed(\"nom_equipement\",\"equipement\")\n",
    "merged_result = sub_topologie.join(isis_renamed, on=['equipement', 'port', 'interface_netwk'], how='inner')\n",
    "\n",
    "# 2. merge result by client = geographique.nom_equipement to give column with _A\n",
    "\n",
    "geographique_renamed_column_A = geographique.toDF(*add_to_col_name(geographique, '_A'))\n",
    "merged_result = merged_result.join(geographique_renamed_column_A, merged_result.equipement == geographique_renamed_column_A.nom_equipement_A)\n",
    "\n",
    "# 3. merge result by client = geographique.nom_equipement to give column with _B\n",
    "\n",
    "geographique_renamed_column_B = geographique.toDF(*add_to_col_name(geographique, '_B'))\n",
    "merged_result = merged_result.join(geographique_renamed_column_B, merged_result.equipement == geographique_renamed_column_B.nom_equipement_B)\n",
    "\n",
    "\n",
    "# 4."
   ],
   "metadata": {
    "collapsed": false
   }
  },
  {
   "cell_type": "code",
   "execution_count": 54,
   "outputs": [
    {
     "data": {
      "text/plain": "     equipement   port              interface_netwk    client portlldp  \\\n0      PTN00122  1/1/2   TO_PTN00022_LAG22_WDM_FTTA  PTN00022    8/1/2   \n1      PTN00122  2/1/3   TO_PTN00022_LAG22_WDM_FTTA  PTN00022    8/1/4   \n2      PTN00820  2/1/3           TO_PTN00821_LAG_21  PTN00821    1/1/3   \n3      PTN00820  2/1/4           TO_PTN00821_LAG_21  PTN00821    2/1/1   \n4      PTN00651  4/1/2            TO_PTN00042_LAG22  PTN00042    2/1/2   \n...         ...    ...                          ...       ...      ...   \n2825   PTN01404  1/1/2           TO_PTN01731_LAG-20  PTN01731    1/1/2   \n2826   PTN01404  1/1/3           TO_PTN01731_LAG-20  PTN01731    1/1/3   \n2827   PTN01404  2/1/2           TO_PTN00258_LAG-27  PTN00258  No LLDP   \n2828   PTN01404  2/1/3           TO_PTN00258_LAG-27  PTN00258  No LLDP   \n2829   PTN00018  2/1/3  TO_PTN00019_LAG_24_WDM_FTTA  PTN00019    1/1/3   \n\n     port_lag_netwk isis_level isis_metric nom_equipement_A role_A  \\\n0            lag-22          1          10         PTN00122      B   \n1            lag-22          1          10         PTN00122      B   \n2            lag-21          1          10         PTN00820      B   \n3            lag-21          1          10         PTN00820      B   \n4            lag-22          1          10         PTN00651      B   \n...             ...        ...         ...              ...    ...   \n2825         lag-20          1          10         PTN01404      B   \n2826         lag-20          1          10         PTN01404      B   \n2827         lag-27          1          10         PTN01404      B   \n2828         lag-27          1          10         PTN01404      B   \n2829         lag-24          1          40         PTN00018      B   \n\n     configuration_A region_exploitation_A nom_equipement_B role_B  \\\n0           7750-SR7                   IDF         PTN00122      B   \n1           7750-SR7                   IDF         PTN00122      B   \n2           7750-SR7                   WST         PTN00820      B   \n3           7750-SR7                   WST         PTN00820      B   \n4           7750-SR7                   MED         PTN00651      B   \n...              ...                   ...              ...    ...   \n2825        7750-SR7                   WST         PTN01404      B   \n2826        7750-SR7                   WST         PTN01404      B   \n2827        7750-SR7                   WST         PTN01404      B   \n2828        7750-SR7                   WST         PTN01404      B   \n2829        7750-SR7                   IDF         PTN00018      B   \n\n     configuration_B region_exploitation_B  \n0           7750-SR7                   IDF  \n1           7750-SR7                   IDF  \n2           7750-SR7                   WST  \n3           7750-SR7                   WST  \n4           7750-SR7                   MED  \n...              ...                   ...  \n2825        7750-SR7                   WST  \n2826        7750-SR7                   WST  \n2827        7750-SR7                   WST  \n2828        7750-SR7                   WST  \n2829        7750-SR7                   IDF  \n\n[2830 rows x 16 columns]",
      "text/html": "<div>\n<style scoped>\n    .dataframe tbody tr th:only-of-type {\n        vertical-align: middle;\n    }\n\n    .dataframe tbody tr th {\n        vertical-align: top;\n    }\n\n    .dataframe thead th {\n        text-align: right;\n    }\n</style>\n<table border=\"1\" class=\"dataframe\">\n  <thead>\n    <tr style=\"text-align: right;\">\n      <th></th>\n      <th>equipement</th>\n      <th>port</th>\n      <th>interface_netwk</th>\n      <th>client</th>\n      <th>portlldp</th>\n      <th>port_lag_netwk</th>\n      <th>isis_level</th>\n      <th>isis_metric</th>\n      <th>nom_equipement_A</th>\n      <th>role_A</th>\n      <th>configuration_A</th>\n      <th>region_exploitation_A</th>\n      <th>nom_equipement_B</th>\n      <th>role_B</th>\n      <th>configuration_B</th>\n      <th>region_exploitation_B</th>\n    </tr>\n  </thead>\n  <tbody>\n    <tr>\n      <th>0</th>\n      <td>PTN00122</td>\n      <td>1/1/2</td>\n      <td>TO_PTN00022_LAG22_WDM_FTTA</td>\n      <td>PTN00022</td>\n      <td>8/1/2</td>\n      <td>lag-22</td>\n      <td>1</td>\n      <td>10</td>\n      <td>PTN00122</td>\n      <td>B</td>\n      <td>7750-SR7</td>\n      <td>IDF</td>\n      <td>PTN00122</td>\n      <td>B</td>\n      <td>7750-SR7</td>\n      <td>IDF</td>\n    </tr>\n    <tr>\n      <th>1</th>\n      <td>PTN00122</td>\n      <td>2/1/3</td>\n      <td>TO_PTN00022_LAG22_WDM_FTTA</td>\n      <td>PTN00022</td>\n      <td>8/1/4</td>\n      <td>lag-22</td>\n      <td>1</td>\n      <td>10</td>\n      <td>PTN00122</td>\n      <td>B</td>\n      <td>7750-SR7</td>\n      <td>IDF</td>\n      <td>PTN00122</td>\n      <td>B</td>\n      <td>7750-SR7</td>\n      <td>IDF</td>\n    </tr>\n    <tr>\n      <th>2</th>\n      <td>PTN00820</td>\n      <td>2/1/3</td>\n      <td>TO_PTN00821_LAG_21</td>\n      <td>PTN00821</td>\n      <td>1/1/3</td>\n      <td>lag-21</td>\n      <td>1</td>\n      <td>10</td>\n      <td>PTN00820</td>\n      <td>B</td>\n      <td>7750-SR7</td>\n      <td>WST</td>\n      <td>PTN00820</td>\n      <td>B</td>\n      <td>7750-SR7</td>\n      <td>WST</td>\n    </tr>\n    <tr>\n      <th>3</th>\n      <td>PTN00820</td>\n      <td>2/1/4</td>\n      <td>TO_PTN00821_LAG_21</td>\n      <td>PTN00821</td>\n      <td>2/1/1</td>\n      <td>lag-21</td>\n      <td>1</td>\n      <td>10</td>\n      <td>PTN00820</td>\n      <td>B</td>\n      <td>7750-SR7</td>\n      <td>WST</td>\n      <td>PTN00820</td>\n      <td>B</td>\n      <td>7750-SR7</td>\n      <td>WST</td>\n    </tr>\n    <tr>\n      <th>4</th>\n      <td>PTN00651</td>\n      <td>4/1/2</td>\n      <td>TO_PTN00042_LAG22</td>\n      <td>PTN00042</td>\n      <td>2/1/2</td>\n      <td>lag-22</td>\n      <td>1</td>\n      <td>10</td>\n      <td>PTN00651</td>\n      <td>B</td>\n      <td>7750-SR7</td>\n      <td>MED</td>\n      <td>PTN00651</td>\n      <td>B</td>\n      <td>7750-SR7</td>\n      <td>MED</td>\n    </tr>\n    <tr>\n      <th>...</th>\n      <td>...</td>\n      <td>...</td>\n      <td>...</td>\n      <td>...</td>\n      <td>...</td>\n      <td>...</td>\n      <td>...</td>\n      <td>...</td>\n      <td>...</td>\n      <td>...</td>\n      <td>...</td>\n      <td>...</td>\n      <td>...</td>\n      <td>...</td>\n      <td>...</td>\n      <td>...</td>\n    </tr>\n    <tr>\n      <th>2825</th>\n      <td>PTN01404</td>\n      <td>1/1/2</td>\n      <td>TO_PTN01731_LAG-20</td>\n      <td>PTN01731</td>\n      <td>1/1/2</td>\n      <td>lag-20</td>\n      <td>1</td>\n      <td>10</td>\n      <td>PTN01404</td>\n      <td>B</td>\n      <td>7750-SR7</td>\n      <td>WST</td>\n      <td>PTN01404</td>\n      <td>B</td>\n      <td>7750-SR7</td>\n      <td>WST</td>\n    </tr>\n    <tr>\n      <th>2826</th>\n      <td>PTN01404</td>\n      <td>1/1/3</td>\n      <td>TO_PTN01731_LAG-20</td>\n      <td>PTN01731</td>\n      <td>1/1/3</td>\n      <td>lag-20</td>\n      <td>1</td>\n      <td>10</td>\n      <td>PTN01404</td>\n      <td>B</td>\n      <td>7750-SR7</td>\n      <td>WST</td>\n      <td>PTN01404</td>\n      <td>B</td>\n      <td>7750-SR7</td>\n      <td>WST</td>\n    </tr>\n    <tr>\n      <th>2827</th>\n      <td>PTN01404</td>\n      <td>2/1/2</td>\n      <td>TO_PTN00258_LAG-27</td>\n      <td>PTN00258</td>\n      <td>No LLDP</td>\n      <td>lag-27</td>\n      <td>1</td>\n      <td>10</td>\n      <td>PTN01404</td>\n      <td>B</td>\n      <td>7750-SR7</td>\n      <td>WST</td>\n      <td>PTN01404</td>\n      <td>B</td>\n      <td>7750-SR7</td>\n      <td>WST</td>\n    </tr>\n    <tr>\n      <th>2828</th>\n      <td>PTN01404</td>\n      <td>2/1/3</td>\n      <td>TO_PTN00258_LAG-27</td>\n      <td>PTN00258</td>\n      <td>No LLDP</td>\n      <td>lag-27</td>\n      <td>1</td>\n      <td>10</td>\n      <td>PTN01404</td>\n      <td>B</td>\n      <td>7750-SR7</td>\n      <td>WST</td>\n      <td>PTN01404</td>\n      <td>B</td>\n      <td>7750-SR7</td>\n      <td>WST</td>\n    </tr>\n    <tr>\n      <th>2829</th>\n      <td>PTN00018</td>\n      <td>2/1/3</td>\n      <td>TO_PTN00019_LAG_24_WDM_FTTA</td>\n      <td>PTN00019</td>\n      <td>1/1/3</td>\n      <td>lag-24</td>\n      <td>1</td>\n      <td>40</td>\n      <td>PTN00018</td>\n      <td>B</td>\n      <td>7750-SR7</td>\n      <td>IDF</td>\n      <td>PTN00018</td>\n      <td>B</td>\n      <td>7750-SR7</td>\n      <td>IDF</td>\n    </tr>\n  </tbody>\n</table>\n<p>2830 rows × 16 columns</p>\n</div>"
     },
     "execution_count": 54,
     "metadata": {},
     "output_type": "execute_result"
    }
   ],
   "source": [
    "# check the merge result\n",
    "merged_result.toPandas()"
   ],
   "metadata": {
    "collapsed": false
   }
  },
  {
   "cell_type": "code",
   "execution_count": 55,
   "outputs": [],
   "source": [
    "# Partie II"
   ],
   "metadata": {
    "collapsed": false
   }
  },
  {
   "cell_type": "markdown",
   "source": [
    "Part II"
   ],
   "metadata": {
    "collapsed": false
   }
  },
  {
   "cell_type": "code",
   "execution_count": 60,
   "outputs": [],
   "source": [
    "# o\tIdentifier le maximum du trafic sur cet équipement entre le trafic rentrant et sortant (in & out), on appellera cette variable trafic_max"
   ],
   "metadata": {
    "collapsed": false
   }
  },
  {
   "cell_type": "code",
   "execution_count": 111,
   "outputs": [
    {
     "name": "stdout",
     "output_type": "stream",
     "text": [
      "+----------+--------------------+----------------+\n",
      "|equipement|interface_equipement|max(traffic_max)|\n",
      "+----------+--------------------+----------------+\n",
      "|  PTN00440|             lag-133|        33825.73|\n",
      "|  PTN00070|              lag-31|        0.472888|\n",
      "|  PTN00462|              lag-20|        0.811944|\n",
      "|  PTN00992|              lag-21|        393.2941|\n",
      "|  PTN00773|              lag-20|       16094.253|\n",
      "|  PTN00354|              lag-21|       7224.8213|\n",
      "|  PTN00218|              lag-23|        726.6768|\n",
      "|  PTN00485|              lag-21|       2574.4377|\n",
      "|  PTN00024|              lag-21|       1066.2867|\n",
      "|  PTN00056|              lag-23|       4915.2656|\n",
      "|  PTN02295|              lag-22|       1103.6776|\n",
      "|  PTN00017|              lag-24|       2258.2336|\n",
      "|  PTN00016|             lag-103|        0.106856|\n",
      "|  PTN00624|              lag-21|       3573.4937|\n",
      "|  PTN01404|              lag-20|       2473.3462|\n",
      "|  PTN00083|              lag-13|       5119.5137|\n",
      "|  PTN01086|              lag-23|        1510.017|\n",
      "|  PTN00030|               lag-3|       195.74257|\n",
      "|  PTN00074|               lag-3|         6744.85|\n",
      "|  PTN00754|               lag-1|        0.158752|\n",
      "+----------+--------------------+----------------+\n",
      "only showing top 20 rows\n",
      "\n"
     ]
    }
   ],
   "source": [
    "# change traffic_out and traffic_in type\n",
    "\n",
    "traffic=traffic.withColumn('trafic_in', sf.regexp_replace('trafic_in', ',', '.'))\n",
    "traffic=traffic.withColumn('trafic_out', sf.regexp_replace('trafic_out', ',', '.'))\n",
    "\n",
    "traffic = traffic.withColumn('trafic_in', traffic.trafic_in.cast('float'))\n",
    "traffic = traffic.withColumn('trafic_out', traffic.trafic_out.cast('float'))\n",
    "\n",
    "traffic = traffic.filter(\"interface_equipement LIKE 'lag%'\").withColumn('traffic_max',sf.greatest(traffic.trafic_in, traffic.trafic_out))\n",
    "traffic_result = traffic.groupby(['equipement', 'interface_equipement']).max('traffic_max').show()"
   ],
   "metadata": {
    "collapsed": false
   }
  },
  {
   "cell_type": "code",
   "execution_count": 110,
   "outputs": [
    {
     "data": {
      "text/plain": "     equipement    client   port portlldp              interface_netwk  \\\n0      PTN00122  PTN00022  1/1/2    8/1/2   TO_PTN00022_LAG22_WDM_FTTA   \n1      PTN00122  PTN00022  2/1/3    8/1/4   TO_PTN00022_LAG22_WDM_FTTA   \n2      PTN00820  PTN00821  2/1/3    1/1/3           TO_PTN00821_LAG_21   \n3      PTN00820  PTN00821  2/1/4    2/1/1           TO_PTN00821_LAG_21   \n4      PTN00651  PTN00042  4/1/2    2/1/2            TO_PTN00042_LAG22   \n...         ...       ...    ...      ...                          ...   \n3232   PTN01404  PTN01731  1/1/2    1/1/2           TO_PTN01731_LAG-20   \n3233   PTN01404  PTN01731  1/1/3    1/1/3           TO_PTN01731_LAG-20   \n3234   PTN01404  PTN00258  2/1/2  No LLDP           TO_PTN00258_LAG-27   \n3235   PTN01404  PTN00258  2/1/3  No LLDP           TO_PTN00258_LAG-27   \n3236   PTN00018  PTN00019  2/1/3    1/1/3  TO_PTN00019_LAG_24_WDM_FTTA   \n\n     port_lag_netwk  \n0            lag-22  \n1            lag-22  \n2            lag-21  \n3            lag-21  \n4            lag-22  \n...             ...  \n3232         lag-20  \n3233         lag-20  \n3234         lag-27  \n3235         lag-27  \n3236         lag-24  \n\n[3237 rows x 6 columns]",
      "text/html": "<div>\n<style scoped>\n    .dataframe tbody tr th:only-of-type {\n        vertical-align: middle;\n    }\n\n    .dataframe tbody tr th {\n        vertical-align: top;\n    }\n\n    .dataframe thead th {\n        text-align: right;\n    }\n</style>\n<table border=\"1\" class=\"dataframe\">\n  <thead>\n    <tr style=\"text-align: right;\">\n      <th></th>\n      <th>equipement</th>\n      <th>client</th>\n      <th>port</th>\n      <th>portlldp</th>\n      <th>interface_netwk</th>\n      <th>port_lag_netwk</th>\n    </tr>\n  </thead>\n  <tbody>\n    <tr>\n      <th>0</th>\n      <td>PTN00122</td>\n      <td>PTN00022</td>\n      <td>1/1/2</td>\n      <td>8/1/2</td>\n      <td>TO_PTN00022_LAG22_WDM_FTTA</td>\n      <td>lag-22</td>\n    </tr>\n    <tr>\n      <th>1</th>\n      <td>PTN00122</td>\n      <td>PTN00022</td>\n      <td>2/1/3</td>\n      <td>8/1/4</td>\n      <td>TO_PTN00022_LAG22_WDM_FTTA</td>\n      <td>lag-22</td>\n    </tr>\n    <tr>\n      <th>2</th>\n      <td>PTN00820</td>\n      <td>PTN00821</td>\n      <td>2/1/3</td>\n      <td>1/1/3</td>\n      <td>TO_PTN00821_LAG_21</td>\n      <td>lag-21</td>\n    </tr>\n    <tr>\n      <th>3</th>\n      <td>PTN00820</td>\n      <td>PTN00821</td>\n      <td>2/1/4</td>\n      <td>2/1/1</td>\n      <td>TO_PTN00821_LAG_21</td>\n      <td>lag-21</td>\n    </tr>\n    <tr>\n      <th>4</th>\n      <td>PTN00651</td>\n      <td>PTN00042</td>\n      <td>4/1/2</td>\n      <td>2/1/2</td>\n      <td>TO_PTN00042_LAG22</td>\n      <td>lag-22</td>\n    </tr>\n    <tr>\n      <th>...</th>\n      <td>...</td>\n      <td>...</td>\n      <td>...</td>\n      <td>...</td>\n      <td>...</td>\n      <td>...</td>\n    </tr>\n    <tr>\n      <th>3232</th>\n      <td>PTN01404</td>\n      <td>PTN01731</td>\n      <td>1/1/2</td>\n      <td>1/1/2</td>\n      <td>TO_PTN01731_LAG-20</td>\n      <td>lag-20</td>\n    </tr>\n    <tr>\n      <th>3233</th>\n      <td>PTN01404</td>\n      <td>PTN01731</td>\n      <td>1/1/3</td>\n      <td>1/1/3</td>\n      <td>TO_PTN01731_LAG-20</td>\n      <td>lag-20</td>\n    </tr>\n    <tr>\n      <th>3234</th>\n      <td>PTN01404</td>\n      <td>PTN00258</td>\n      <td>2/1/2</td>\n      <td>No LLDP</td>\n      <td>TO_PTN00258_LAG-27</td>\n      <td>lag-27</td>\n    </tr>\n    <tr>\n      <th>3235</th>\n      <td>PTN01404</td>\n      <td>PTN00258</td>\n      <td>2/1/3</td>\n      <td>No LLDP</td>\n      <td>TO_PTN00258_LAG-27</td>\n      <td>lag-27</td>\n    </tr>\n    <tr>\n      <th>3236</th>\n      <td>PTN00018</td>\n      <td>PTN00019</td>\n      <td>2/1/3</td>\n      <td>1/1/3</td>\n      <td>TO_PTN00019_LAG_24_WDM_FTTA</td>\n      <td>lag-24</td>\n    </tr>\n  </tbody>\n</table>\n<p>3237 rows × 6 columns</p>\n</div>"
     },
     "execution_count": 110,
     "metadata": {},
     "output_type": "execute_result"
    }
   ],
   "source": [
    "sub_topologie.join(traffic_result)\n"
   ],
   "metadata": {
    "collapsed": false
   }
  },
  {
   "cell_type": "code",
   "execution_count": 99,
   "outputs": [
    {
     "data": {
      "text/plain": "[('equipement', 'string'),\n ('interface_equipement', 'string'),\n ('date', 'string'),\n ('heure', 'string'),\n ('trafic_in', 'float'),\n ('trafic_out', 'float')]"
     },
     "execution_count": 99,
     "metadata": {},
     "output_type": "execute_result"
    }
   ],
   "source": [
    "traffic.dtypes"
   ],
   "metadata": {
    "collapsed": false
   }
  },
  {
   "cell_type": "code",
   "execution_count": null,
   "outputs": [],
   "source": [],
   "metadata": {
    "collapsed": false
   }
  }
 ],
 "metadata": {
  "kernelspec": {
   "display_name": "Python 3",
   "language": "python",
   "name": "python3"
  },
  "language_info": {
   "codemirror_mode": {
    "name": "ipython",
    "version": 2
   },
   "file_extension": ".py",
   "mimetype": "text/x-python",
   "name": "python",
   "nbconvert_exporter": "python",
   "pygments_lexer": "ipython2",
   "version": "2.7.6"
  }
 },
 "nbformat": 4,
 "nbformat_minor": 0
}
