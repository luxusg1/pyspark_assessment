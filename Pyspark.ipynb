{
 "cells": [
  {
   "cell_type": "code",
   "execution_count": 84,
   "outputs": [],
   "source": [
    "# import all necessary package\n",
    "\n",
    "from pyspark.sql import SparkSession\n",
    "from pyspark.sql import functions as sf\n",
    "import pandas as pd"
   ],
   "metadata": {
    "collapsed": false
   }
  },
  {
   "cell_type": "code",
   "execution_count": 3,
   "outputs": [],
   "source": [
    "# create session\n",
    "spark = SparkSession.builder.appName('ExoPySpark').getOrCreate()"
   ],
   "metadata": {
    "collapsed": false
   }
  },
  {
   "cell_type": "code",
   "execution_count": 85,
   "outputs": [],
   "source": [
    "# create a temporary table for each csv file\n",
    "dir = 'Exo_PySpark'\n",
    "\n",
    "data_path_dict = {\n",
    "    'traffic':f'{dir}/fichier1_trafic.csv',\n",
    "    'topologie':f'{dir}/fichier2_topologie.csv',\n",
    "    'geographique':f'{dir}/fichier3_Donnees_geographique.csv',\n",
    "    'isis':f'{dir}/fichier4_couts_ISIS.csv'\n",
    "}\n",
    "\n",
    "for table_name , path in data_path_dict.items():\n",
    "    spark.read.option('header',True).csv(path).createOrReplaceTempView(table_name)\n"
   ],
   "metadata": {
    "collapsed": false
   }
  },
  {
   "cell_type": "code",
   "execution_count": 86,
   "outputs": [
    {
     "data": {
      "text/plain": "[Table(name='geographique', database=None, description=None, tableType='TEMPORARY', isTemporary=True),\n Table(name='isis', database=None, description=None, tableType='TEMPORARY', isTemporary=True),\n Table(name='topologie', database=None, description=None, tableType='TEMPORARY', isTemporary=True),\n Table(name='traffic', database=None, description=None, tableType='TEMPORARY', isTemporary=True)]"
     },
     "execution_count": 86,
     "metadata": {},
     "output_type": "execute_result"
    }
   ],
   "source": [
    "# check if all tables are included\n",
    "spark.catalog.listTables()"
   ],
   "metadata": {
    "collapsed": false
   }
  },
  {
   "cell_type": "code",
   "execution_count": 199,
   "outputs": [],
   "source": [
    "# Filter on file 2\n",
    "topologie = spark.table('topologie')\n",
    "isis =  spark.table('isis')\n",
    "geographique = spark.table('geographique')\n",
    "traffic = spark.table('traffic')\n",
    "\n",
    "# Issues :\n",
    "# there is row with admin_state_port = Connexion KO\n",
    "# Is the filter expression the best way to do the task\n",
    "\n",
    "\n",
    "sub_topologie = topologie.filter(\"equipement LIKE 'PTN%' AND client LIKE '%PTN%' AND admin_state_port!='down' AND vlan=='NA' AND type_port_ou_mda == '10G'\")\\\n",
    "    .withColumn('id_lien', sf.concat(topologie.equipement, sf.lit('_'), topologie.client))\\\n",
    "    .select('equipement', 'client', 'port', 'portlldp', 'interface_netwk', 'port_lag_netwk', 'type_port_ou_mda')"
   ],
   "metadata": {
    "collapsed": false
   }
  },
  {
   "cell_type": "code",
   "execution_count": 200,
   "outputs": [],
   "source": [
    "# step to follow\n",
    "# function which add a string value to the column name of a spark dataframe\n",
    "def add_to_col_name(df, value):\n",
    "    return [column_name + value for column_name in df.columns]\n",
    "\n",
    "# 1. merge topology table filtered result with isis using inner join by (nom_equipement, port, interface_netwk)\n",
    "\n",
    "isis_renamed = isis.withColumnRenamed(\"nom_equipement\",\"equipement\")\n",
    "merged_result = sub_topologie.join(isis_renamed, on=['equipement', 'port', 'interface_netwk'], how='inner')\n",
    "\n",
    "# 2. merge result by client = geographique.nom_equipement to give column with _A\n",
    "\n",
    "geographique_renamed_column_A = geographique.toDF(*add_to_col_name(geographique, '_A'))\n",
    "merged_result = merged_result.join(geographique_renamed_column_A, merged_result.equipement == geographique_renamed_column_A.nom_equipement_A)\n",
    "\n",
    "# 3. merge result by client = geographique.nom_equipement to give column with _B\n",
    "\n",
    "geographique_renamed_column_B = geographique.toDF(*add_to_col_name(geographique, '_B'))\n",
    "merged_result = merged_result.join(geographique_renamed_column_B, merged_result.equipement == geographique_renamed_column_B.nom_equipement_B)\n",
    "\n",
    "\n",
    "# 4."
   ],
   "metadata": {
    "collapsed": false
   }
  },
  {
   "cell_type": "code",
   "execution_count": 201,
   "outputs": [
    {
     "data": {
      "text/plain": "     equipement   port              interface_netwk    client portlldp  \\\n0      PTN00122  1/1/2   TO_PTN00022_LAG22_WDM_FTTA  PTN00022    8/1/2   \n1      PTN00122  2/1/3   TO_PTN00022_LAG22_WDM_FTTA  PTN00022    8/1/4   \n2      PTN00820  2/1/3           TO_PTN00821_LAG_21  PTN00821    1/1/3   \n3      PTN00820  2/1/4           TO_PTN00821_LAG_21  PTN00821    2/1/1   \n4      PTN00651  4/1/2            TO_PTN00042_LAG22  PTN00042    2/1/2   \n...         ...    ...                          ...       ...      ...   \n2825   PTN01404  1/1/2           TO_PTN01731_LAG-20  PTN01731    1/1/2   \n2826   PTN01404  1/1/3           TO_PTN01731_LAG-20  PTN01731    1/1/3   \n2827   PTN01404  2/1/2           TO_PTN00258_LAG-27  PTN00258  No LLDP   \n2828   PTN01404  2/1/3           TO_PTN00258_LAG-27  PTN00258  No LLDP   \n2829   PTN00018  2/1/3  TO_PTN00019_LAG_24_WDM_FTTA  PTN00019    1/1/3   \n\n     port_lag_netwk type_port_ou_mda isis_level isis_metric nom_equipement_A  \\\n0            lag-22              10G          1          10         PTN00122   \n1            lag-22              10G          1          10         PTN00122   \n2            lag-21              10G          1          10         PTN00820   \n3            lag-21              10G          1          10         PTN00820   \n4            lag-22              10G          1          10         PTN00651   \n...             ...              ...        ...         ...              ...   \n2825         lag-20              10G          1          10         PTN01404   \n2826         lag-20              10G          1          10         PTN01404   \n2827         lag-27              10G          1          10         PTN01404   \n2828         lag-27              10G          1          10         PTN01404   \n2829         lag-24              10G          1          40         PTN00018   \n\n     role_A configuration_A region_exploitation_A nom_equipement_B role_B  \\\n0         B        7750-SR7                   IDF         PTN00122      B   \n1         B        7750-SR7                   IDF         PTN00122      B   \n2         B        7750-SR7                   WST         PTN00820      B   \n3         B        7750-SR7                   WST         PTN00820      B   \n4         B        7750-SR7                   MED         PTN00651      B   \n...     ...             ...                   ...              ...    ...   \n2825      B        7750-SR7                   WST         PTN01404      B   \n2826      B        7750-SR7                   WST         PTN01404      B   \n2827      B        7750-SR7                   WST         PTN01404      B   \n2828      B        7750-SR7                   WST         PTN01404      B   \n2829      B        7750-SR7                   IDF         PTN00018      B   \n\n     configuration_B region_exploitation_B  \n0           7750-SR7                   IDF  \n1           7750-SR7                   IDF  \n2           7750-SR7                   WST  \n3           7750-SR7                   WST  \n4           7750-SR7                   MED  \n...              ...                   ...  \n2825        7750-SR7                   WST  \n2826        7750-SR7                   WST  \n2827        7750-SR7                   WST  \n2828        7750-SR7                   WST  \n2829        7750-SR7                   IDF  \n\n[2830 rows x 17 columns]",
      "text/html": "<div>\n<style scoped>\n    .dataframe tbody tr th:only-of-type {\n        vertical-align: middle;\n    }\n\n    .dataframe tbody tr th {\n        vertical-align: top;\n    }\n\n    .dataframe thead th {\n        text-align: right;\n    }\n</style>\n<table border=\"1\" class=\"dataframe\">\n  <thead>\n    <tr style=\"text-align: right;\">\n      <th></th>\n      <th>equipement</th>\n      <th>port</th>\n      <th>interface_netwk</th>\n      <th>client</th>\n      <th>portlldp</th>\n      <th>port_lag_netwk</th>\n      <th>type_port_ou_mda</th>\n      <th>isis_level</th>\n      <th>isis_metric</th>\n      <th>nom_equipement_A</th>\n      <th>role_A</th>\n      <th>configuration_A</th>\n      <th>region_exploitation_A</th>\n      <th>nom_equipement_B</th>\n      <th>role_B</th>\n      <th>configuration_B</th>\n      <th>region_exploitation_B</th>\n    </tr>\n  </thead>\n  <tbody>\n    <tr>\n      <th>0</th>\n      <td>PTN00122</td>\n      <td>1/1/2</td>\n      <td>TO_PTN00022_LAG22_WDM_FTTA</td>\n      <td>PTN00022</td>\n      <td>8/1/2</td>\n      <td>lag-22</td>\n      <td>10G</td>\n      <td>1</td>\n      <td>10</td>\n      <td>PTN00122</td>\n      <td>B</td>\n      <td>7750-SR7</td>\n      <td>IDF</td>\n      <td>PTN00122</td>\n      <td>B</td>\n      <td>7750-SR7</td>\n      <td>IDF</td>\n    </tr>\n    <tr>\n      <th>1</th>\n      <td>PTN00122</td>\n      <td>2/1/3</td>\n      <td>TO_PTN00022_LAG22_WDM_FTTA</td>\n      <td>PTN00022</td>\n      <td>8/1/4</td>\n      <td>lag-22</td>\n      <td>10G</td>\n      <td>1</td>\n      <td>10</td>\n      <td>PTN00122</td>\n      <td>B</td>\n      <td>7750-SR7</td>\n      <td>IDF</td>\n      <td>PTN00122</td>\n      <td>B</td>\n      <td>7750-SR7</td>\n      <td>IDF</td>\n    </tr>\n    <tr>\n      <th>2</th>\n      <td>PTN00820</td>\n      <td>2/1/3</td>\n      <td>TO_PTN00821_LAG_21</td>\n      <td>PTN00821</td>\n      <td>1/1/3</td>\n      <td>lag-21</td>\n      <td>10G</td>\n      <td>1</td>\n      <td>10</td>\n      <td>PTN00820</td>\n      <td>B</td>\n      <td>7750-SR7</td>\n      <td>WST</td>\n      <td>PTN00820</td>\n      <td>B</td>\n      <td>7750-SR7</td>\n      <td>WST</td>\n    </tr>\n    <tr>\n      <th>3</th>\n      <td>PTN00820</td>\n      <td>2/1/4</td>\n      <td>TO_PTN00821_LAG_21</td>\n      <td>PTN00821</td>\n      <td>2/1/1</td>\n      <td>lag-21</td>\n      <td>10G</td>\n      <td>1</td>\n      <td>10</td>\n      <td>PTN00820</td>\n      <td>B</td>\n      <td>7750-SR7</td>\n      <td>WST</td>\n      <td>PTN00820</td>\n      <td>B</td>\n      <td>7750-SR7</td>\n      <td>WST</td>\n    </tr>\n    <tr>\n      <th>4</th>\n      <td>PTN00651</td>\n      <td>4/1/2</td>\n      <td>TO_PTN00042_LAG22</td>\n      <td>PTN00042</td>\n      <td>2/1/2</td>\n      <td>lag-22</td>\n      <td>10G</td>\n      <td>1</td>\n      <td>10</td>\n      <td>PTN00651</td>\n      <td>B</td>\n      <td>7750-SR7</td>\n      <td>MED</td>\n      <td>PTN00651</td>\n      <td>B</td>\n      <td>7750-SR7</td>\n      <td>MED</td>\n    </tr>\n    <tr>\n      <th>...</th>\n      <td>...</td>\n      <td>...</td>\n      <td>...</td>\n      <td>...</td>\n      <td>...</td>\n      <td>...</td>\n      <td>...</td>\n      <td>...</td>\n      <td>...</td>\n      <td>...</td>\n      <td>...</td>\n      <td>...</td>\n      <td>...</td>\n      <td>...</td>\n      <td>...</td>\n      <td>...</td>\n      <td>...</td>\n    </tr>\n    <tr>\n      <th>2825</th>\n      <td>PTN01404</td>\n      <td>1/1/2</td>\n      <td>TO_PTN01731_LAG-20</td>\n      <td>PTN01731</td>\n      <td>1/1/2</td>\n      <td>lag-20</td>\n      <td>10G</td>\n      <td>1</td>\n      <td>10</td>\n      <td>PTN01404</td>\n      <td>B</td>\n      <td>7750-SR7</td>\n      <td>WST</td>\n      <td>PTN01404</td>\n      <td>B</td>\n      <td>7750-SR7</td>\n      <td>WST</td>\n    </tr>\n    <tr>\n      <th>2826</th>\n      <td>PTN01404</td>\n      <td>1/1/3</td>\n      <td>TO_PTN01731_LAG-20</td>\n      <td>PTN01731</td>\n      <td>1/1/3</td>\n      <td>lag-20</td>\n      <td>10G</td>\n      <td>1</td>\n      <td>10</td>\n      <td>PTN01404</td>\n      <td>B</td>\n      <td>7750-SR7</td>\n      <td>WST</td>\n      <td>PTN01404</td>\n      <td>B</td>\n      <td>7750-SR7</td>\n      <td>WST</td>\n    </tr>\n    <tr>\n      <th>2827</th>\n      <td>PTN01404</td>\n      <td>2/1/2</td>\n      <td>TO_PTN00258_LAG-27</td>\n      <td>PTN00258</td>\n      <td>No LLDP</td>\n      <td>lag-27</td>\n      <td>10G</td>\n      <td>1</td>\n      <td>10</td>\n      <td>PTN01404</td>\n      <td>B</td>\n      <td>7750-SR7</td>\n      <td>WST</td>\n      <td>PTN01404</td>\n      <td>B</td>\n      <td>7750-SR7</td>\n      <td>WST</td>\n    </tr>\n    <tr>\n      <th>2828</th>\n      <td>PTN01404</td>\n      <td>2/1/3</td>\n      <td>TO_PTN00258_LAG-27</td>\n      <td>PTN00258</td>\n      <td>No LLDP</td>\n      <td>lag-27</td>\n      <td>10G</td>\n      <td>1</td>\n      <td>10</td>\n      <td>PTN01404</td>\n      <td>B</td>\n      <td>7750-SR7</td>\n      <td>WST</td>\n      <td>PTN01404</td>\n      <td>B</td>\n      <td>7750-SR7</td>\n      <td>WST</td>\n    </tr>\n    <tr>\n      <th>2829</th>\n      <td>PTN00018</td>\n      <td>2/1/3</td>\n      <td>TO_PTN00019_LAG_24_WDM_FTTA</td>\n      <td>PTN00019</td>\n      <td>1/1/3</td>\n      <td>lag-24</td>\n      <td>10G</td>\n      <td>1</td>\n      <td>40</td>\n      <td>PTN00018</td>\n      <td>B</td>\n      <td>7750-SR7</td>\n      <td>IDF</td>\n      <td>PTN00018</td>\n      <td>B</td>\n      <td>7750-SR7</td>\n      <td>IDF</td>\n    </tr>\n  </tbody>\n</table>\n<p>2830 rows × 17 columns</p>\n</div>"
     },
     "execution_count": 201,
     "metadata": {},
     "output_type": "execute_result"
    }
   ],
   "source": [
    "# check the merge result\n",
    "merged_result.toPandas()"
   ],
   "metadata": {
    "collapsed": false
   }
  },
  {
   "cell_type": "code",
   "execution_count": 55,
   "outputs": [],
   "source": [
    "# Partie II"
   ],
   "metadata": {
    "collapsed": false
   }
  },
  {
   "cell_type": "markdown",
   "source": [
    "Part II"
   ],
   "metadata": {
    "collapsed": false
   }
  },
  {
   "cell_type": "code",
   "execution_count": 60,
   "outputs": [],
   "source": [
    "# o\tIdentifier le maximum du trafic sur cet équipement entre le trafic rentrant et sortant (in & out), on appellera cette variable trafic_max"
   ],
   "metadata": {
    "collapsed": false
   }
  },
  {
   "cell_type": "code",
   "execution_count": 202,
   "outputs": [],
   "source": [
    "# change traffic_out and traffic_in type\n",
    "\n",
    "traffic=traffic.withColumn('trafic_in', sf.regexp_replace('trafic_in', ',', '.'))\n",
    "traffic=traffic.withColumn('trafic_out', sf.regexp_replace('trafic_out', ',', '.'))\n",
    "\n",
    "traffic = traffic.withColumn('trafic_in', traffic.trafic_in.cast('float'))\n",
    "traffic = traffic.withColumn('trafic_out', traffic.trafic_out.cast('float'))\n",
    "\n",
    "traffic = traffic.filter(\"interface_equipement LIKE 'lag%'\").withColumn('traffic_max',sf.greatest(traffic.trafic_in, traffic.trafic_out))\n",
    "\n",
    "\n",
    "traffic_result = traffic.groupby(['equipement', 'interface_equipement']).max('traffic_max', 'trafic_out', 'trafic_in').toDF(*['equipement', 'interface_equipement', 'trafic_max', 'trafic_out', 'trafic_in'])"
   ],
   "metadata": {
    "collapsed": false
   }
  },
  {
   "cell_type": "code",
   "execution_count": 203,
   "outputs": [
    {
     "data": {
      "text/plain": "     equipement interface_equipement    trafic_max    trafic_out     trafic_in\n0      PTN00440              lag-133  33825.730469   2660.219971  33825.730469\n1      PTN00070               lag-31      0.472888      0.472888      0.293776\n2      PTN00462               lag-20      0.811944      0.811944      0.170688\n3      PTN00992               lag-21    393.294098     74.954163    393.294098\n4      PTN00773               lag-20  16094.252930  16094.252930   1219.979126\n...         ...                  ...           ...           ...           ...\n1436   PTN00104               lag-20   4282.311035   4282.311035    382.316437\n1437   PTN00440               lag-10   5130.512695   5130.512695    416.335266\n1438   PTN00142               lag-20     22.486240     10.415432     22.486240\n1439   PTN00666               lag-22   3610.095703    407.226074   3610.095703\n1440   PTN00191               lag-21    753.560669    166.182449    753.560669\n\n[1441 rows x 5 columns]",
      "text/html": "<div>\n<style scoped>\n    .dataframe tbody tr th:only-of-type {\n        vertical-align: middle;\n    }\n\n    .dataframe tbody tr th {\n        vertical-align: top;\n    }\n\n    .dataframe thead th {\n        text-align: right;\n    }\n</style>\n<table border=\"1\" class=\"dataframe\">\n  <thead>\n    <tr style=\"text-align: right;\">\n      <th></th>\n      <th>equipement</th>\n      <th>interface_equipement</th>\n      <th>trafic_max</th>\n      <th>trafic_out</th>\n      <th>trafic_in</th>\n    </tr>\n  </thead>\n  <tbody>\n    <tr>\n      <th>0</th>\n      <td>PTN00440</td>\n      <td>lag-133</td>\n      <td>33825.730469</td>\n      <td>2660.219971</td>\n      <td>33825.730469</td>\n    </tr>\n    <tr>\n      <th>1</th>\n      <td>PTN00070</td>\n      <td>lag-31</td>\n      <td>0.472888</td>\n      <td>0.472888</td>\n      <td>0.293776</td>\n    </tr>\n    <tr>\n      <th>2</th>\n      <td>PTN00462</td>\n      <td>lag-20</td>\n      <td>0.811944</td>\n      <td>0.811944</td>\n      <td>0.170688</td>\n    </tr>\n    <tr>\n      <th>3</th>\n      <td>PTN00992</td>\n      <td>lag-21</td>\n      <td>393.294098</td>\n      <td>74.954163</td>\n      <td>393.294098</td>\n    </tr>\n    <tr>\n      <th>4</th>\n      <td>PTN00773</td>\n      <td>lag-20</td>\n      <td>16094.252930</td>\n      <td>16094.252930</td>\n      <td>1219.979126</td>\n    </tr>\n    <tr>\n      <th>...</th>\n      <td>...</td>\n      <td>...</td>\n      <td>...</td>\n      <td>...</td>\n      <td>...</td>\n    </tr>\n    <tr>\n      <th>1436</th>\n      <td>PTN00104</td>\n      <td>lag-20</td>\n      <td>4282.311035</td>\n      <td>4282.311035</td>\n      <td>382.316437</td>\n    </tr>\n    <tr>\n      <th>1437</th>\n      <td>PTN00440</td>\n      <td>lag-10</td>\n      <td>5130.512695</td>\n      <td>5130.512695</td>\n      <td>416.335266</td>\n    </tr>\n    <tr>\n      <th>1438</th>\n      <td>PTN00142</td>\n      <td>lag-20</td>\n      <td>22.486240</td>\n      <td>10.415432</td>\n      <td>22.486240</td>\n    </tr>\n    <tr>\n      <th>1439</th>\n      <td>PTN00666</td>\n      <td>lag-22</td>\n      <td>3610.095703</td>\n      <td>407.226074</td>\n      <td>3610.095703</td>\n    </tr>\n    <tr>\n      <th>1440</th>\n      <td>PTN00191</td>\n      <td>lag-21</td>\n      <td>753.560669</td>\n      <td>166.182449</td>\n      <td>753.560669</td>\n    </tr>\n  </tbody>\n</table>\n<p>1441 rows × 5 columns</p>\n</div>"
     },
     "execution_count": 203,
     "metadata": {},
     "output_type": "execute_result"
    }
   ],
   "source": [
    "traffic_result.toPandas()"
   ],
   "metadata": {
    "collapsed": false
   }
  },
  {
   "cell_type": "code",
   "execution_count": 231,
   "outputs": [],
   "source": [
    "# select unique by 'equipement', 'client', 'port_lag_netwk'\n",
    "sub_top_unique = sub_topologie.dropDuplicates(['equipement', 'client', 'port_lag_netwk']).select('equipement', 'client', 'port_lag_netwk', 'type_port_ou_mda')"
   ],
   "metadata": {
    "collapsed": false
   }
  },
  {
   "cell_type": "code",
   "execution_count": 232,
   "outputs": [],
   "source": [
    "result = sub_top_unique.join(traffic_result, (traffic_result.equipement == sub_top_unique.equipement) & (traffic_result.interface_equipement == sub_top_unique.port_lag_netwk)).drop(traffic_result.equipement)"
   ],
   "metadata": {
    "collapsed": false
   }
  },
  {
   "cell_type": "code",
   "execution_count": 233,
   "outputs": [
    {
     "data": {
      "text/plain": "    equipement    client port_lag_netwk  type_port_ou_mda  \\\n0     PTN00462  PTN01077         lag-20                10   \n1     PTN00992  PTN00622         lag-21                10   \n2     PTN00773  PTN00774         lag-20                10   \n3     PTN00354  PTN00352         lag-21                10   \n4     PTN00218  PTN00327         lag-23                10   \n..         ...       ...            ...               ...   \n887   PTN00247  PTN00246         lag-20                10   \n888   PTN00104  PTN00100         lag-20                10   \n889   PTN00142  PTN00343         lag-20                10   \n890   PTN00666  PTN00335         lag-22                10   \n891   PTN00191  PTN00192         lag-21                10   \n\n    interface_equipement    trafic_max    trafic_out    trafic_in  \n0                 lag-20      0.811944      0.811944     0.170688  \n1                 lag-21    393.294098     74.954163   393.294098  \n2                 lag-20  16094.252930  16094.252930  1219.979126  \n3                 lag-21   7224.821289    953.789001  7224.821289  \n4                 lag-23    726.676819    726.676819   152.194534  \n..                   ...           ...           ...          ...  \n887               lag-20   1443.899902   1443.899902   415.637573  \n888               lag-20   4282.311035   4282.311035   382.316437  \n889               lag-20     22.486240     10.415432    22.486240  \n890               lag-22   3610.095703    407.226074  3610.095703  \n891               lag-21    753.560669    166.182449   753.560669  \n\n[892 rows x 8 columns]",
      "text/html": "<div>\n<style scoped>\n    .dataframe tbody tr th:only-of-type {\n        vertical-align: middle;\n    }\n\n    .dataframe tbody tr th {\n        vertical-align: top;\n    }\n\n    .dataframe thead th {\n        text-align: right;\n    }\n</style>\n<table border=\"1\" class=\"dataframe\">\n  <thead>\n    <tr style=\"text-align: right;\">\n      <th></th>\n      <th>equipement</th>\n      <th>client</th>\n      <th>port_lag_netwk</th>\n      <th>type_port_ou_mda</th>\n      <th>interface_equipement</th>\n      <th>trafic_max</th>\n      <th>trafic_out</th>\n      <th>trafic_in</th>\n    </tr>\n  </thead>\n  <tbody>\n    <tr>\n      <th>0</th>\n      <td>PTN00462</td>\n      <td>PTN01077</td>\n      <td>lag-20</td>\n      <td>10</td>\n      <td>lag-20</td>\n      <td>0.811944</td>\n      <td>0.811944</td>\n      <td>0.170688</td>\n    </tr>\n    <tr>\n      <th>1</th>\n      <td>PTN00992</td>\n      <td>PTN00622</td>\n      <td>lag-21</td>\n      <td>10</td>\n      <td>lag-21</td>\n      <td>393.294098</td>\n      <td>74.954163</td>\n      <td>393.294098</td>\n    </tr>\n    <tr>\n      <th>2</th>\n      <td>PTN00773</td>\n      <td>PTN00774</td>\n      <td>lag-20</td>\n      <td>10</td>\n      <td>lag-20</td>\n      <td>16094.252930</td>\n      <td>16094.252930</td>\n      <td>1219.979126</td>\n    </tr>\n    <tr>\n      <th>3</th>\n      <td>PTN00354</td>\n      <td>PTN00352</td>\n      <td>lag-21</td>\n      <td>10</td>\n      <td>lag-21</td>\n      <td>7224.821289</td>\n      <td>953.789001</td>\n      <td>7224.821289</td>\n    </tr>\n    <tr>\n      <th>4</th>\n      <td>PTN00218</td>\n      <td>PTN00327</td>\n      <td>lag-23</td>\n      <td>10</td>\n      <td>lag-23</td>\n      <td>726.676819</td>\n      <td>726.676819</td>\n      <td>152.194534</td>\n    </tr>\n    <tr>\n      <th>...</th>\n      <td>...</td>\n      <td>...</td>\n      <td>...</td>\n      <td>...</td>\n      <td>...</td>\n      <td>...</td>\n      <td>...</td>\n      <td>...</td>\n    </tr>\n    <tr>\n      <th>887</th>\n      <td>PTN00247</td>\n      <td>PTN00246</td>\n      <td>lag-20</td>\n      <td>10</td>\n      <td>lag-20</td>\n      <td>1443.899902</td>\n      <td>1443.899902</td>\n      <td>415.637573</td>\n    </tr>\n    <tr>\n      <th>888</th>\n      <td>PTN00104</td>\n      <td>PTN00100</td>\n      <td>lag-20</td>\n      <td>10</td>\n      <td>lag-20</td>\n      <td>4282.311035</td>\n      <td>4282.311035</td>\n      <td>382.316437</td>\n    </tr>\n    <tr>\n      <th>889</th>\n      <td>PTN00142</td>\n      <td>PTN00343</td>\n      <td>lag-20</td>\n      <td>10</td>\n      <td>lag-20</td>\n      <td>22.486240</td>\n      <td>10.415432</td>\n      <td>22.486240</td>\n    </tr>\n    <tr>\n      <th>890</th>\n      <td>PTN00666</td>\n      <td>PTN00335</td>\n      <td>lag-22</td>\n      <td>10</td>\n      <td>lag-22</td>\n      <td>3610.095703</td>\n      <td>407.226074</td>\n      <td>3610.095703</td>\n    </tr>\n    <tr>\n      <th>891</th>\n      <td>PTN00191</td>\n      <td>PTN00192</td>\n      <td>lag-21</td>\n      <td>10</td>\n      <td>lag-21</td>\n      <td>753.560669</td>\n      <td>166.182449</td>\n      <td>753.560669</td>\n    </tr>\n  </tbody>\n</table>\n<p>892 rows × 8 columns</p>\n</div>"
     },
     "execution_count": 233,
     "metadata": {},
     "output_type": "execute_result"
    }
   ],
   "source": [
    "result.toPandas()"
   ],
   "metadata": {
    "collapsed": false
   }
  },
  {
   "cell_type": "code",
   "execution_count": 234,
   "outputs": [
    {
     "data": {
      "text/plain": "  equipement    client port_lag_netwk  type_port_ou_mda interface_equipement  \\\n0   PTN00218  PTN00216         lag-21                10               lag-21   \n1   PTN00216  PTN00218         lag-21                10               lag-21   \n\n    trafic_max   trafic_out    trafic_in  \n0  7034.388184   867.169983  7034.388184  \n1  7023.918457  7023.918457   869.327148  ",
      "text/html": "<div>\n<style scoped>\n    .dataframe tbody tr th:only-of-type {\n        vertical-align: middle;\n    }\n\n    .dataframe tbody tr th {\n        vertical-align: top;\n    }\n\n    .dataframe thead th {\n        text-align: right;\n    }\n</style>\n<table border=\"1\" class=\"dataframe\">\n  <thead>\n    <tr style=\"text-align: right;\">\n      <th></th>\n      <th>equipement</th>\n      <th>client</th>\n      <th>port_lag_netwk</th>\n      <th>type_port_ou_mda</th>\n      <th>interface_equipement</th>\n      <th>trafic_max</th>\n      <th>trafic_out</th>\n      <th>trafic_in</th>\n    </tr>\n  </thead>\n  <tbody>\n    <tr>\n      <th>0</th>\n      <td>PTN00218</td>\n      <td>PTN00216</td>\n      <td>lag-21</td>\n      <td>10</td>\n      <td>lag-21</td>\n      <td>7034.388184</td>\n      <td>867.169983</td>\n      <td>7034.388184</td>\n    </tr>\n    <tr>\n      <th>1</th>\n      <td>PTN00216</td>\n      <td>PTN00218</td>\n      <td>lag-21</td>\n      <td>10</td>\n      <td>lag-21</td>\n      <td>7023.918457</td>\n      <td>7023.918457</td>\n      <td>869.327148</td>\n    </tr>\n  </tbody>\n</table>\n</div>"
     },
     "execution_count": 234,
     "metadata": {},
     "output_type": "execute_result"
    }
   ],
   "source": [
    "result.filter(\"equipement IN ('PTN00216','PTN00218') AND client IN ('PTN00216','PTN00218')\").toPandas()"
   ],
   "metadata": {
    "collapsed": false
   }
  },
  {
   "cell_type": "code",
   "execution_count": 235,
   "outputs": [],
   "source": [
    "geographique_renamed_column_A = geographique.toDF(*add_to_col_name(geographique, '_A'))\n",
    "merged_result = result.join(geographique_renamed_column_A, result.equipement == geographique_renamed_column_A.nom_equipement_A)\n",
    "\n",
    "# 3. merge result by client = geographique.nom_equipement to give column with _B\n",
    "\n",
    "geographique_renamed_column_B = geographique.toDF(*add_to_col_name(geographique, '_B'))\n",
    "merged_result = merged_result.join(geographique_renamed_column_B, merged_result.equipement == geographique_renamed_column_B.nom_equipement_B)\n"
   ],
   "metadata": {
    "collapsed": false
   }
  },
  {
   "cell_type": "code",
   "execution_count": 236,
   "outputs": [],
   "source": [
    "merged_result = merged_result.drop(*['nom_equipement_A', 'nom_equipement_B'])"
   ],
   "metadata": {
    "collapsed": false
   }
  },
  {
   "cell_type": "code",
   "execution_count": 237,
   "outputs": [],
   "source": [
    "# get capacite lien\n",
    "sub_topologie=sub_topologie.withColumn('type_port_ou_mda', sf.regexp_replace('type_port_ou_mda', 'G', ''))\n",
    "sub_topologie=sub_topologie.withColumn('type_port_ou_mda',sub_topologie.type_port_ou_mda.cast('int'))\n",
    "capacite_lien = sub_topologie.groupby(['equipement', 'client']).sum('type_port_ou_mda').withColumnRenamed('sum(type_port_ou_mda)', 'capacite_lien')"
   ],
   "metadata": {
    "collapsed": false
   }
  },
  {
   "cell_type": "code",
   "execution_count": 278,
   "outputs": [],
   "source": [
    "res = merged_result.join(capacite_lien, on=['equipement', 'client'])"
   ],
   "metadata": {
    "collapsed": false
   }
  },
  {
   "cell_type": "code",
   "execution_count": 279,
   "outputs": [
    {
     "data": {
      "text/plain": "    equipement    client port_lag_netwk  type_port_ou_mda  \\\n0     PTN00462  PTN01077         lag-20                10   \n1     PTN00992  PTN00622         lag-21                10   \n2     PTN00773  PTN00774         lag-20                10   \n3     PTN00354  PTN00352         lag-21                10   \n4     PTN00218  PTN00327         lag-23                10   \n..         ...       ...            ...               ...   \n887   PTN00247  PTN00246         lag-20                10   \n888   PTN00104  PTN00100         lag-20                10   \n889   PTN00142  PTN00343         lag-20                10   \n890   PTN00666  PTN00335         lag-22                10   \n891   PTN00191  PTN00192         lag-21                10   \n\n    interface_equipement    trafic_max    trafic_out    trafic_in role_A  \\\n0                 lag-20      0.811944      0.811944     0.170688      B   \n1                 lag-21    393.294098     74.954163   393.294098      B   \n2                 lag-20  16094.252930  16094.252930  1219.979126      A   \n3                 lag-21   7224.821289    953.789001  7224.821289      B   \n4                 lag-23    726.676819    726.676819   152.194534      A   \n..                   ...           ...           ...          ...    ...   \n887               lag-20   1443.899902   1443.899902   415.637573      B   \n888               lag-20   4282.311035   4282.311035   382.316437      B   \n889               lag-20     22.486240     10.415432    22.486240      B   \n890               lag-22   3610.095703    407.226074  3610.095703      B   \n891               lag-21    753.560669    166.182449   753.560669      B   \n\n    configuration_A region_exploitation_A role_B configuration_B  \\\n0          7750-SR7                   MED      B        7750-SR7   \n1          7750-SR7                   NOE      B        7750-SR7   \n2         7750-SR12                   IDF      A       7750-SR12   \n3          7750-SR7                   SWT      B        7750-SR7   \n4         7750-SR12                   NOE      A       7750-SR12   \n..              ...                   ...    ...             ...   \n887        7750-SR7                   WST      B        7750-SR7   \n888        7750-SR7                   MED      B        7750-SR7   \n889        7750-SR7                   MED      B        7750-SR7   \n890        7750-SR7                   WST      B        7750-SR7   \n891        7750-SR7                   IDF      B        7750-SR7   \n\n    region_exploitation_B  capacite_lien  \n0                     MED             40  \n1                     NOE             30  \n2                     IDF             60  \n3                     SWT             20  \n4                     NOE             30  \n..                    ...            ...  \n887                   WST             40  \n888                   MED             20  \n889                   MED             40  \n890                   WST             40  \n891                   IDF             30  \n\n[892 rows x 15 columns]",
      "text/html": "<div>\n<style scoped>\n    .dataframe tbody tr th:only-of-type {\n        vertical-align: middle;\n    }\n\n    .dataframe tbody tr th {\n        vertical-align: top;\n    }\n\n    .dataframe thead th {\n        text-align: right;\n    }\n</style>\n<table border=\"1\" class=\"dataframe\">\n  <thead>\n    <tr style=\"text-align: right;\">\n      <th></th>\n      <th>equipement</th>\n      <th>client</th>\n      <th>port_lag_netwk</th>\n      <th>type_port_ou_mda</th>\n      <th>interface_equipement</th>\n      <th>trafic_max</th>\n      <th>trafic_out</th>\n      <th>trafic_in</th>\n      <th>role_A</th>\n      <th>configuration_A</th>\n      <th>region_exploitation_A</th>\n      <th>role_B</th>\n      <th>configuration_B</th>\n      <th>region_exploitation_B</th>\n      <th>capacite_lien</th>\n    </tr>\n  </thead>\n  <tbody>\n    <tr>\n      <th>0</th>\n      <td>PTN00462</td>\n      <td>PTN01077</td>\n      <td>lag-20</td>\n      <td>10</td>\n      <td>lag-20</td>\n      <td>0.811944</td>\n      <td>0.811944</td>\n      <td>0.170688</td>\n      <td>B</td>\n      <td>7750-SR7</td>\n      <td>MED</td>\n      <td>B</td>\n      <td>7750-SR7</td>\n      <td>MED</td>\n      <td>40</td>\n    </tr>\n    <tr>\n      <th>1</th>\n      <td>PTN00992</td>\n      <td>PTN00622</td>\n      <td>lag-21</td>\n      <td>10</td>\n      <td>lag-21</td>\n      <td>393.294098</td>\n      <td>74.954163</td>\n      <td>393.294098</td>\n      <td>B</td>\n      <td>7750-SR7</td>\n      <td>NOE</td>\n      <td>B</td>\n      <td>7750-SR7</td>\n      <td>NOE</td>\n      <td>30</td>\n    </tr>\n    <tr>\n      <th>2</th>\n      <td>PTN00773</td>\n      <td>PTN00774</td>\n      <td>lag-20</td>\n      <td>10</td>\n      <td>lag-20</td>\n      <td>16094.252930</td>\n      <td>16094.252930</td>\n      <td>1219.979126</td>\n      <td>A</td>\n      <td>7750-SR12</td>\n      <td>IDF</td>\n      <td>A</td>\n      <td>7750-SR12</td>\n      <td>IDF</td>\n      <td>60</td>\n    </tr>\n    <tr>\n      <th>3</th>\n      <td>PTN00354</td>\n      <td>PTN00352</td>\n      <td>lag-21</td>\n      <td>10</td>\n      <td>lag-21</td>\n      <td>7224.821289</td>\n      <td>953.789001</td>\n      <td>7224.821289</td>\n      <td>B</td>\n      <td>7750-SR7</td>\n      <td>SWT</td>\n      <td>B</td>\n      <td>7750-SR7</td>\n      <td>SWT</td>\n      <td>20</td>\n    </tr>\n    <tr>\n      <th>4</th>\n      <td>PTN00218</td>\n      <td>PTN00327</td>\n      <td>lag-23</td>\n      <td>10</td>\n      <td>lag-23</td>\n      <td>726.676819</td>\n      <td>726.676819</td>\n      <td>152.194534</td>\n      <td>A</td>\n      <td>7750-SR12</td>\n      <td>NOE</td>\n      <td>A</td>\n      <td>7750-SR12</td>\n      <td>NOE</td>\n      <td>30</td>\n    </tr>\n    <tr>\n      <th>...</th>\n      <td>...</td>\n      <td>...</td>\n      <td>...</td>\n      <td>...</td>\n      <td>...</td>\n      <td>...</td>\n      <td>...</td>\n      <td>...</td>\n      <td>...</td>\n      <td>...</td>\n      <td>...</td>\n      <td>...</td>\n      <td>...</td>\n      <td>...</td>\n      <td>...</td>\n    </tr>\n    <tr>\n      <th>887</th>\n      <td>PTN00247</td>\n      <td>PTN00246</td>\n      <td>lag-20</td>\n      <td>10</td>\n      <td>lag-20</td>\n      <td>1443.899902</td>\n      <td>1443.899902</td>\n      <td>415.637573</td>\n      <td>B</td>\n      <td>7750-SR7</td>\n      <td>WST</td>\n      <td>B</td>\n      <td>7750-SR7</td>\n      <td>WST</td>\n      <td>40</td>\n    </tr>\n    <tr>\n      <th>888</th>\n      <td>PTN00104</td>\n      <td>PTN00100</td>\n      <td>lag-20</td>\n      <td>10</td>\n      <td>lag-20</td>\n      <td>4282.311035</td>\n      <td>4282.311035</td>\n      <td>382.316437</td>\n      <td>B</td>\n      <td>7750-SR7</td>\n      <td>MED</td>\n      <td>B</td>\n      <td>7750-SR7</td>\n      <td>MED</td>\n      <td>20</td>\n    </tr>\n    <tr>\n      <th>889</th>\n      <td>PTN00142</td>\n      <td>PTN00343</td>\n      <td>lag-20</td>\n      <td>10</td>\n      <td>lag-20</td>\n      <td>22.486240</td>\n      <td>10.415432</td>\n      <td>22.486240</td>\n      <td>B</td>\n      <td>7750-SR7</td>\n      <td>MED</td>\n      <td>B</td>\n      <td>7750-SR7</td>\n      <td>MED</td>\n      <td>40</td>\n    </tr>\n    <tr>\n      <th>890</th>\n      <td>PTN00666</td>\n      <td>PTN00335</td>\n      <td>lag-22</td>\n      <td>10</td>\n      <td>lag-22</td>\n      <td>3610.095703</td>\n      <td>407.226074</td>\n      <td>3610.095703</td>\n      <td>B</td>\n      <td>7750-SR7</td>\n      <td>WST</td>\n      <td>B</td>\n      <td>7750-SR7</td>\n      <td>WST</td>\n      <td>40</td>\n    </tr>\n    <tr>\n      <th>891</th>\n      <td>PTN00191</td>\n      <td>PTN00192</td>\n      <td>lag-21</td>\n      <td>10</td>\n      <td>lag-21</td>\n      <td>753.560669</td>\n      <td>166.182449</td>\n      <td>753.560669</td>\n      <td>B</td>\n      <td>7750-SR7</td>\n      <td>IDF</td>\n      <td>B</td>\n      <td>7750-SR7</td>\n      <td>IDF</td>\n      <td>30</td>\n    </tr>\n  </tbody>\n</table>\n<p>892 rows × 15 columns</p>\n</div>"
     },
     "execution_count": 279,
     "metadata": {},
     "output_type": "execute_result"
    }
   ],
   "source": [
    "res.toPandas()"
   ],
   "metadata": {
    "collapsed": false
   }
  },
  {
   "cell_type": "code",
   "execution_count": null,
   "outputs": [],
   "source": [],
   "metadata": {
    "collapsed": false
   }
  },
  {
   "cell_type": "code",
   "execution_count": 272,
   "outputs": [],
   "source": [
    "res = res.withColumn('tdc', ((res.trafic_max)/1000)/res.capacite_lien * 100)"
   ],
   "metadata": {
    "collapsed": false
   }
  },
  {
   "cell_type": "code",
   "execution_count": 273,
   "outputs": [],
   "source": [
    "def get_intervalle_charge(value):\n",
    "    if value <=70:\n",
    "        return 'Inf 70%'\n",
    "    else:\n",
    "        if value<=90:\n",
    "            return 'Sup 70% Inf 90%'\n",
    "        else:\n",
    "            if value<100:\n",
    "                return 'Sup 90%'\n",
    "            else:\n",
    "                return 'Erreur'\n",
    "\n",
    "get_intervalle_charge_udf = sf.udf(get_intervalle_charge)"
   ],
   "metadata": {
    "collapsed": false
   }
  },
  {
   "cell_type": "code",
   "execution_count": 280,
   "outputs": [
    {
     "data": {
      "text/plain": "    equipement    client port_lag_netwk  type_port_ou_mda  \\\n0     PTN00462  PTN01077         lag-20                10   \n1     PTN00992  PTN00622         lag-21                10   \n2     PTN00773  PTN00774         lag-20                10   \n3     PTN00354  PTN00352         lag-21                10   \n4     PTN00218  PTN00327         lag-23                10   \n..         ...       ...            ...               ...   \n887   PTN00247  PTN00246         lag-20                10   \n888   PTN00104  PTN00100         lag-20                10   \n889   PTN00142  PTN00343         lag-20                10   \n890   PTN00666  PTN00335         lag-22                10   \n891   PTN00191  PTN00192         lag-21                10   \n\n    interface_equipement    trafic_max    trafic_out    trafic_in role_A  \\\n0                 lag-20      0.811944      0.811944     0.170688      B   \n1                 lag-21    393.294098     74.954163   393.294098      B   \n2                 lag-20  16094.252930  16094.252930  1219.979126      A   \n3                 lag-21   7224.821289    953.789001  7224.821289      B   \n4                 lag-23    726.676819    726.676819   152.194534      A   \n..                   ...           ...           ...          ...    ...   \n887               lag-20   1443.899902   1443.899902   415.637573      B   \n888               lag-20   4282.311035   4282.311035   382.316437      B   \n889               lag-20     22.486240     10.415432    22.486240      B   \n890               lag-22   3610.095703    407.226074  3610.095703      B   \n891               lag-21    753.560669    166.182449   753.560669      B   \n\n    configuration_A region_exploitation_A role_B configuration_B  \\\n0          7750-SR7                   MED      B        7750-SR7   \n1          7750-SR7                   NOE      B        7750-SR7   \n2         7750-SR12                   IDF      A       7750-SR12   \n3          7750-SR7                   SWT      B        7750-SR7   \n4         7750-SR12                   NOE      A       7750-SR12   \n..              ...                   ...    ...             ...   \n887        7750-SR7                   WST      B        7750-SR7   \n888        7750-SR7                   MED      B        7750-SR7   \n889        7750-SR7                   MED      B        7750-SR7   \n890        7750-SR7                   WST      B        7750-SR7   \n891        7750-SR7                   IDF      B        7750-SR7   \n\n    region_exploitation_B  capacite_lien  \n0                     MED             40  \n1                     NOE             30  \n2                     IDF             60  \n3                     SWT             20  \n4                     NOE             30  \n..                    ...            ...  \n887                   WST             40  \n888                   MED             20  \n889                   MED             40  \n890                   WST             40  \n891                   IDF             30  \n\n[892 rows x 15 columns]",
      "text/html": "<div>\n<style scoped>\n    .dataframe tbody tr th:only-of-type {\n        vertical-align: middle;\n    }\n\n    .dataframe tbody tr th {\n        vertical-align: top;\n    }\n\n    .dataframe thead th {\n        text-align: right;\n    }\n</style>\n<table border=\"1\" class=\"dataframe\">\n  <thead>\n    <tr style=\"text-align: right;\">\n      <th></th>\n      <th>equipement</th>\n      <th>client</th>\n      <th>port_lag_netwk</th>\n      <th>type_port_ou_mda</th>\n      <th>interface_equipement</th>\n      <th>trafic_max</th>\n      <th>trafic_out</th>\n      <th>trafic_in</th>\n      <th>role_A</th>\n      <th>configuration_A</th>\n      <th>region_exploitation_A</th>\n      <th>role_B</th>\n      <th>configuration_B</th>\n      <th>region_exploitation_B</th>\n      <th>capacite_lien</th>\n    </tr>\n  </thead>\n  <tbody>\n    <tr>\n      <th>0</th>\n      <td>PTN00462</td>\n      <td>PTN01077</td>\n      <td>lag-20</td>\n      <td>10</td>\n      <td>lag-20</td>\n      <td>0.811944</td>\n      <td>0.811944</td>\n      <td>0.170688</td>\n      <td>B</td>\n      <td>7750-SR7</td>\n      <td>MED</td>\n      <td>B</td>\n      <td>7750-SR7</td>\n      <td>MED</td>\n      <td>40</td>\n    </tr>\n    <tr>\n      <th>1</th>\n      <td>PTN00992</td>\n      <td>PTN00622</td>\n      <td>lag-21</td>\n      <td>10</td>\n      <td>lag-21</td>\n      <td>393.294098</td>\n      <td>74.954163</td>\n      <td>393.294098</td>\n      <td>B</td>\n      <td>7750-SR7</td>\n      <td>NOE</td>\n      <td>B</td>\n      <td>7750-SR7</td>\n      <td>NOE</td>\n      <td>30</td>\n    </tr>\n    <tr>\n      <th>2</th>\n      <td>PTN00773</td>\n      <td>PTN00774</td>\n      <td>lag-20</td>\n      <td>10</td>\n      <td>lag-20</td>\n      <td>16094.252930</td>\n      <td>16094.252930</td>\n      <td>1219.979126</td>\n      <td>A</td>\n      <td>7750-SR12</td>\n      <td>IDF</td>\n      <td>A</td>\n      <td>7750-SR12</td>\n      <td>IDF</td>\n      <td>60</td>\n    </tr>\n    <tr>\n      <th>3</th>\n      <td>PTN00354</td>\n      <td>PTN00352</td>\n      <td>lag-21</td>\n      <td>10</td>\n      <td>lag-21</td>\n      <td>7224.821289</td>\n      <td>953.789001</td>\n      <td>7224.821289</td>\n      <td>B</td>\n      <td>7750-SR7</td>\n      <td>SWT</td>\n      <td>B</td>\n      <td>7750-SR7</td>\n      <td>SWT</td>\n      <td>20</td>\n    </tr>\n    <tr>\n      <th>4</th>\n      <td>PTN00218</td>\n      <td>PTN00327</td>\n      <td>lag-23</td>\n      <td>10</td>\n      <td>lag-23</td>\n      <td>726.676819</td>\n      <td>726.676819</td>\n      <td>152.194534</td>\n      <td>A</td>\n      <td>7750-SR12</td>\n      <td>NOE</td>\n      <td>A</td>\n      <td>7750-SR12</td>\n      <td>NOE</td>\n      <td>30</td>\n    </tr>\n    <tr>\n      <th>...</th>\n      <td>...</td>\n      <td>...</td>\n      <td>...</td>\n      <td>...</td>\n      <td>...</td>\n      <td>...</td>\n      <td>...</td>\n      <td>...</td>\n      <td>...</td>\n      <td>...</td>\n      <td>...</td>\n      <td>...</td>\n      <td>...</td>\n      <td>...</td>\n      <td>...</td>\n    </tr>\n    <tr>\n      <th>887</th>\n      <td>PTN00247</td>\n      <td>PTN00246</td>\n      <td>lag-20</td>\n      <td>10</td>\n      <td>lag-20</td>\n      <td>1443.899902</td>\n      <td>1443.899902</td>\n      <td>415.637573</td>\n      <td>B</td>\n      <td>7750-SR7</td>\n      <td>WST</td>\n      <td>B</td>\n      <td>7750-SR7</td>\n      <td>WST</td>\n      <td>40</td>\n    </tr>\n    <tr>\n      <th>888</th>\n      <td>PTN00104</td>\n      <td>PTN00100</td>\n      <td>lag-20</td>\n      <td>10</td>\n      <td>lag-20</td>\n      <td>4282.311035</td>\n      <td>4282.311035</td>\n      <td>382.316437</td>\n      <td>B</td>\n      <td>7750-SR7</td>\n      <td>MED</td>\n      <td>B</td>\n      <td>7750-SR7</td>\n      <td>MED</td>\n      <td>20</td>\n    </tr>\n    <tr>\n      <th>889</th>\n      <td>PTN00142</td>\n      <td>PTN00343</td>\n      <td>lag-20</td>\n      <td>10</td>\n      <td>lag-20</td>\n      <td>22.486240</td>\n      <td>10.415432</td>\n      <td>22.486240</td>\n      <td>B</td>\n      <td>7750-SR7</td>\n      <td>MED</td>\n      <td>B</td>\n      <td>7750-SR7</td>\n      <td>MED</td>\n      <td>40</td>\n    </tr>\n    <tr>\n      <th>890</th>\n      <td>PTN00666</td>\n      <td>PTN00335</td>\n      <td>lag-22</td>\n      <td>10</td>\n      <td>lag-22</td>\n      <td>3610.095703</td>\n      <td>407.226074</td>\n      <td>3610.095703</td>\n      <td>B</td>\n      <td>7750-SR7</td>\n      <td>WST</td>\n      <td>B</td>\n      <td>7750-SR7</td>\n      <td>WST</td>\n      <td>40</td>\n    </tr>\n    <tr>\n      <th>891</th>\n      <td>PTN00191</td>\n      <td>PTN00192</td>\n      <td>lag-21</td>\n      <td>10</td>\n      <td>lag-21</td>\n      <td>753.560669</td>\n      <td>166.182449</td>\n      <td>753.560669</td>\n      <td>B</td>\n      <td>7750-SR7</td>\n      <td>IDF</td>\n      <td>B</td>\n      <td>7750-SR7</td>\n      <td>IDF</td>\n      <td>30</td>\n    </tr>\n  </tbody>\n</table>\n<p>892 rows × 15 columns</p>\n</div>"
     },
     "execution_count": 280,
     "metadata": {},
     "output_type": "execute_result"
    }
   ],
   "source": [
    "res.toPandas()"
   ],
   "metadata": {
    "collapsed": false
   }
  },
  {
   "cell_type": "code",
   "execution_count": 275,
   "outputs": [],
   "source": [
    "res = res.withColumn(\"interval_charge\", get_intervalle_charge_udf('tdc'))"
   ],
   "metadata": {
    "collapsed": false
   }
  },
  {
   "cell_type": "code",
   "execution_count": null,
   "outputs": [],
   "source": [],
   "metadata": {
    "collapsed": false
   }
  }
 ],
 "metadata": {
  "kernelspec": {
   "display_name": "Python 3",
   "language": "python",
   "name": "python3"
  },
  "language_info": {
   "codemirror_mode": {
    "name": "ipython",
    "version": 2
   },
   "file_extension": ".py",
   "mimetype": "text/x-python",
   "name": "python",
   "nbconvert_exporter": "python",
   "pygments_lexer": "ipython2",
   "version": "2.7.6"
  }
 },
 "nbformat": 4,
 "nbformat_minor": 0
}
