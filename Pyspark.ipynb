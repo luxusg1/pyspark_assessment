{
 "cells": [
  {
   "cell_type": "code",
   "execution_count": 1,
   "outputs": [],
   "source": [
    "# import all necessary package\n",
    "\n",
    "from pyspark.sql import SparkSession\n",
    "from pyspark.sql import functions as sf\n",
    "import pandas as pd"
   ],
   "metadata": {
    "collapsed": false
   }
  },
  {
   "cell_type": "code",
   "execution_count": 2,
   "outputs": [],
   "source": [
    "# create session\n",
    "spark = SparkSession.builder.appName('ExoPySpark').getOrCreate()"
   ],
   "metadata": {
    "collapsed": false
   }
  },
  {
   "cell_type": "code",
   "execution_count": 61,
   "outputs": [],
   "source": [
    "# create a temporary table for each csv file\n",
    "dir = 'Exo_PySpark'\n",
    "\n",
    "data_path_dict = {\n",
    "    'traffic':f'{dir}/fichier1_trafic.csv',\n",
    "    'topologie':f'{dir}/fichier2_topologie.csv',\n",
    "    'geographique':f'{dir}/fichier3_Donnees_geographique.csv',\n",
    "    'isis':f'{dir}/fichier4_couts_ISIS.csv'\n",
    "}\n",
    "\n",
    "for table_name , path in data_path_dict.items():\n",
    "    spark.read.option('header',True).csv(path).createOrReplaceTempView(table_name)\n"
   ],
   "metadata": {
    "collapsed": false
   }
  },
  {
   "cell_type": "code",
   "execution_count": 62,
   "outputs": [
    {
     "data": {
      "text/plain": "[Table(name='geographique', database=None, description=None, tableType='TEMPORARY', isTemporary=True),\n Table(name='isis', database=None, description=None, tableType='TEMPORARY', isTemporary=True),\n Table(name='topologie', database=None, description=None, tableType='TEMPORARY', isTemporary=True),\n Table(name='traffic', database=None, description=None, tableType='TEMPORARY', isTemporary=True)]"
     },
     "execution_count": 62,
     "metadata": {},
     "output_type": "execute_result"
    }
   ],
   "source": [
    "# check if all tables are included\n",
    "spark.catalog.listTables()"
   ],
   "metadata": {
    "collapsed": false
   }
  },
  {
   "cell_type": "code",
   "execution_count": 134,
   "outputs": [],
   "source": [
    "# Filter on file 2\n",
    "topologie = spark.table('topologie')\n",
    "isis =  spark.table('isis')\n",
    "geographique = spark.table('geographique')\n",
    "traffic = spark.table('traffic')\n",
    "\n",
    "# Issues :\n",
    "# there is row with admin_state_port = Connexion KO\n",
    "# Is the filter expression the best way to do the task\n",
    "\n",
    "\n",
    "sub_topologie = topologie.filter(\"equipement LIKE 'PTN%' AND client LIKE '%PTN%' AND admin_state_port!='down' AND vlan=='NA' AND type_port_ou_mda == '10G'\")\\\n",
    "    .withColumn('id_lien', sf.concat(topologie.equipement, sf.lit('_'), topologie.client))\\\n",
    "    .select('equipement', 'client', 'port', 'portlldp', 'interface_netwk', 'port_lag_netwk', 'type_port_ou_mda')"
   ],
   "metadata": {
    "collapsed": false
   }
  },
  {
   "cell_type": "code",
   "execution_count": 135,
   "outputs": [],
   "source": [
    "# step to follow\n",
    "# function which add a string value to the column name of a spark dataframe\n",
    "def add_to_col_name(df, value):\n",
    "    return [column_name + value for column_name in df.columns]\n",
    "\n",
    "# 1. merge topology table filtered result with isis using inner join by (nom_equipement, port, interface_netwk)\n",
    "\n",
    "isis_renamed = isis.withColumnRenamed(\"nom_equipement\",\"equipement\")\n",
    "merged_result = sub_topologie.join(isis_renamed, on=['equipement', 'port', 'interface_netwk'], how='inner')\n",
    "\n",
    "# 2. merge result by client = geographique.nom_equipement to give column with _A\n",
    "\n",
    "geographique_renamed_column_A = geographique.toDF(*add_to_col_name(geographique, '_A'))\n",
    "merged_result = merged_result.join(geographique_renamed_column_A, merged_result.equipement == geographique_renamed_column_A.nom_equipement_A)\n",
    "\n",
    "# 3. merge result by client = geographique.nom_equipement to give column with _B\n",
    "\n",
    "geographique_renamed_column_B = geographique.toDF(*add_to_col_name(geographique, '_B'))\n",
    "merged_result = merged_result.join(geographique_renamed_column_B, merged_result.equipement == geographique_renamed_column_B.nom_equipement_B)\n",
    "\n",
    "\n",
    "# 4."
   ],
   "metadata": {
    "collapsed": false
   }
  },
  {
   "cell_type": "code",
   "execution_count": 136,
   "outputs": [
    {
     "data": {
      "text/plain": "     equipement   port              interface_netwk    client portlldp  \\\n0      PTN00122  1/1/2   TO_PTN00022_LAG22_WDM_FTTA  PTN00022    8/1/2   \n1      PTN00122  2/1/3   TO_PTN00022_LAG22_WDM_FTTA  PTN00022    8/1/4   \n2      PTN00820  2/1/3           TO_PTN00821_LAG_21  PTN00821    1/1/3   \n3      PTN00820  2/1/4           TO_PTN00821_LAG_21  PTN00821    2/1/1   \n4      PTN00651  4/1/2            TO_PTN00042_LAG22  PTN00042    2/1/2   \n...         ...    ...                          ...       ...      ...   \n2825   PTN01404  1/1/2           TO_PTN01731_LAG-20  PTN01731    1/1/2   \n2826   PTN01404  1/1/3           TO_PTN01731_LAG-20  PTN01731    1/1/3   \n2827   PTN01404  2/1/2           TO_PTN00258_LAG-27  PTN00258  No LLDP   \n2828   PTN01404  2/1/3           TO_PTN00258_LAG-27  PTN00258  No LLDP   \n2829   PTN00018  2/1/3  TO_PTN00019_LAG_24_WDM_FTTA  PTN00019    1/1/3   \n\n     port_lag_netwk type_port_ou_mda isis_level isis_metric nom_equipement_A  \\\n0            lag-22              10G          1          10         PTN00122   \n1            lag-22              10G          1          10         PTN00122   \n2            lag-21              10G          1          10         PTN00820   \n3            lag-21              10G          1          10         PTN00820   \n4            lag-22              10G          1          10         PTN00651   \n...             ...              ...        ...         ...              ...   \n2825         lag-20              10G          1          10         PTN01404   \n2826         lag-20              10G          1          10         PTN01404   \n2827         lag-27              10G          1          10         PTN01404   \n2828         lag-27              10G          1          10         PTN01404   \n2829         lag-24              10G          1          40         PTN00018   \n\n     role_A configuration_A region_exploitation_A nom_equipement_B role_B  \\\n0         B        7750-SR7                   IDF         PTN00122      B   \n1         B        7750-SR7                   IDF         PTN00122      B   \n2         B        7750-SR7                   WST         PTN00820      B   \n3         B        7750-SR7                   WST         PTN00820      B   \n4         B        7750-SR7                   MED         PTN00651      B   \n...     ...             ...                   ...              ...    ...   \n2825      B        7750-SR7                   WST         PTN01404      B   \n2826      B        7750-SR7                   WST         PTN01404      B   \n2827      B        7750-SR7                   WST         PTN01404      B   \n2828      B        7750-SR7                   WST         PTN01404      B   \n2829      B        7750-SR7                   IDF         PTN00018      B   \n\n     configuration_B region_exploitation_B  \n0           7750-SR7                   IDF  \n1           7750-SR7                   IDF  \n2           7750-SR7                   WST  \n3           7750-SR7                   WST  \n4           7750-SR7                   MED  \n...              ...                   ...  \n2825        7750-SR7                   WST  \n2826        7750-SR7                   WST  \n2827        7750-SR7                   WST  \n2828        7750-SR7                   WST  \n2829        7750-SR7                   IDF  \n\n[2830 rows x 17 columns]",
      "text/html": "<div>\n<style scoped>\n    .dataframe tbody tr th:only-of-type {\n        vertical-align: middle;\n    }\n\n    .dataframe tbody tr th {\n        vertical-align: top;\n    }\n\n    .dataframe thead th {\n        text-align: right;\n    }\n</style>\n<table border=\"1\" class=\"dataframe\">\n  <thead>\n    <tr style=\"text-align: right;\">\n      <th></th>\n      <th>equipement</th>\n      <th>port</th>\n      <th>interface_netwk</th>\n      <th>client</th>\n      <th>portlldp</th>\n      <th>port_lag_netwk</th>\n      <th>type_port_ou_mda</th>\n      <th>isis_level</th>\n      <th>isis_metric</th>\n      <th>nom_equipement_A</th>\n      <th>role_A</th>\n      <th>configuration_A</th>\n      <th>region_exploitation_A</th>\n      <th>nom_equipement_B</th>\n      <th>role_B</th>\n      <th>configuration_B</th>\n      <th>region_exploitation_B</th>\n    </tr>\n  </thead>\n  <tbody>\n    <tr>\n      <th>0</th>\n      <td>PTN00122</td>\n      <td>1/1/2</td>\n      <td>TO_PTN00022_LAG22_WDM_FTTA</td>\n      <td>PTN00022</td>\n      <td>8/1/2</td>\n      <td>lag-22</td>\n      <td>10G</td>\n      <td>1</td>\n      <td>10</td>\n      <td>PTN00122</td>\n      <td>B</td>\n      <td>7750-SR7</td>\n      <td>IDF</td>\n      <td>PTN00122</td>\n      <td>B</td>\n      <td>7750-SR7</td>\n      <td>IDF</td>\n    </tr>\n    <tr>\n      <th>1</th>\n      <td>PTN00122</td>\n      <td>2/1/3</td>\n      <td>TO_PTN00022_LAG22_WDM_FTTA</td>\n      <td>PTN00022</td>\n      <td>8/1/4</td>\n      <td>lag-22</td>\n      <td>10G</td>\n      <td>1</td>\n      <td>10</td>\n      <td>PTN00122</td>\n      <td>B</td>\n      <td>7750-SR7</td>\n      <td>IDF</td>\n      <td>PTN00122</td>\n      <td>B</td>\n      <td>7750-SR7</td>\n      <td>IDF</td>\n    </tr>\n    <tr>\n      <th>2</th>\n      <td>PTN00820</td>\n      <td>2/1/3</td>\n      <td>TO_PTN00821_LAG_21</td>\n      <td>PTN00821</td>\n      <td>1/1/3</td>\n      <td>lag-21</td>\n      <td>10G</td>\n      <td>1</td>\n      <td>10</td>\n      <td>PTN00820</td>\n      <td>B</td>\n      <td>7750-SR7</td>\n      <td>WST</td>\n      <td>PTN00820</td>\n      <td>B</td>\n      <td>7750-SR7</td>\n      <td>WST</td>\n    </tr>\n    <tr>\n      <th>3</th>\n      <td>PTN00820</td>\n      <td>2/1/4</td>\n      <td>TO_PTN00821_LAG_21</td>\n      <td>PTN00821</td>\n      <td>2/1/1</td>\n      <td>lag-21</td>\n      <td>10G</td>\n      <td>1</td>\n      <td>10</td>\n      <td>PTN00820</td>\n      <td>B</td>\n      <td>7750-SR7</td>\n      <td>WST</td>\n      <td>PTN00820</td>\n      <td>B</td>\n      <td>7750-SR7</td>\n      <td>WST</td>\n    </tr>\n    <tr>\n      <th>4</th>\n      <td>PTN00651</td>\n      <td>4/1/2</td>\n      <td>TO_PTN00042_LAG22</td>\n      <td>PTN00042</td>\n      <td>2/1/2</td>\n      <td>lag-22</td>\n      <td>10G</td>\n      <td>1</td>\n      <td>10</td>\n      <td>PTN00651</td>\n      <td>B</td>\n      <td>7750-SR7</td>\n      <td>MED</td>\n      <td>PTN00651</td>\n      <td>B</td>\n      <td>7750-SR7</td>\n      <td>MED</td>\n    </tr>\n    <tr>\n      <th>...</th>\n      <td>...</td>\n      <td>...</td>\n      <td>...</td>\n      <td>...</td>\n      <td>...</td>\n      <td>...</td>\n      <td>...</td>\n      <td>...</td>\n      <td>...</td>\n      <td>...</td>\n      <td>...</td>\n      <td>...</td>\n      <td>...</td>\n      <td>...</td>\n      <td>...</td>\n      <td>...</td>\n      <td>...</td>\n    </tr>\n    <tr>\n      <th>2825</th>\n      <td>PTN01404</td>\n      <td>1/1/2</td>\n      <td>TO_PTN01731_LAG-20</td>\n      <td>PTN01731</td>\n      <td>1/1/2</td>\n      <td>lag-20</td>\n      <td>10G</td>\n      <td>1</td>\n      <td>10</td>\n      <td>PTN01404</td>\n      <td>B</td>\n      <td>7750-SR7</td>\n      <td>WST</td>\n      <td>PTN01404</td>\n      <td>B</td>\n      <td>7750-SR7</td>\n      <td>WST</td>\n    </tr>\n    <tr>\n      <th>2826</th>\n      <td>PTN01404</td>\n      <td>1/1/3</td>\n      <td>TO_PTN01731_LAG-20</td>\n      <td>PTN01731</td>\n      <td>1/1/3</td>\n      <td>lag-20</td>\n      <td>10G</td>\n      <td>1</td>\n      <td>10</td>\n      <td>PTN01404</td>\n      <td>B</td>\n      <td>7750-SR7</td>\n      <td>WST</td>\n      <td>PTN01404</td>\n      <td>B</td>\n      <td>7750-SR7</td>\n      <td>WST</td>\n    </tr>\n    <tr>\n      <th>2827</th>\n      <td>PTN01404</td>\n      <td>2/1/2</td>\n      <td>TO_PTN00258_LAG-27</td>\n      <td>PTN00258</td>\n      <td>No LLDP</td>\n      <td>lag-27</td>\n      <td>10G</td>\n      <td>1</td>\n      <td>10</td>\n      <td>PTN01404</td>\n      <td>B</td>\n      <td>7750-SR7</td>\n      <td>WST</td>\n      <td>PTN01404</td>\n      <td>B</td>\n      <td>7750-SR7</td>\n      <td>WST</td>\n    </tr>\n    <tr>\n      <th>2828</th>\n      <td>PTN01404</td>\n      <td>2/1/3</td>\n      <td>TO_PTN00258_LAG-27</td>\n      <td>PTN00258</td>\n      <td>No LLDP</td>\n      <td>lag-27</td>\n      <td>10G</td>\n      <td>1</td>\n      <td>10</td>\n      <td>PTN01404</td>\n      <td>B</td>\n      <td>7750-SR7</td>\n      <td>WST</td>\n      <td>PTN01404</td>\n      <td>B</td>\n      <td>7750-SR7</td>\n      <td>WST</td>\n    </tr>\n    <tr>\n      <th>2829</th>\n      <td>PTN00018</td>\n      <td>2/1/3</td>\n      <td>TO_PTN00019_LAG_24_WDM_FTTA</td>\n      <td>PTN00019</td>\n      <td>1/1/3</td>\n      <td>lag-24</td>\n      <td>10G</td>\n      <td>1</td>\n      <td>40</td>\n      <td>PTN00018</td>\n      <td>B</td>\n      <td>7750-SR7</td>\n      <td>IDF</td>\n      <td>PTN00018</td>\n      <td>B</td>\n      <td>7750-SR7</td>\n      <td>IDF</td>\n    </tr>\n  </tbody>\n</table>\n<p>2830 rows × 17 columns</p>\n</div>"
     },
     "execution_count": 136,
     "metadata": {},
     "output_type": "execute_result"
    }
   ],
   "source": [
    "# check the merge result\n",
    "merged_result.toPandas()"
   ],
   "metadata": {
    "collapsed": false
   }
  },
  {
   "cell_type": "code",
   "execution_count": 137,
   "outputs": [],
   "source": [
    "# Partie II"
   ],
   "metadata": {
    "collapsed": false
   }
  },
  {
   "cell_type": "markdown",
   "source": [
    "Part II"
   ],
   "metadata": {
    "collapsed": false
   }
  },
  {
   "cell_type": "code",
   "execution_count": 150,
   "outputs": [],
   "source": [
    "# change traffic_out and traffic_in type\n",
    "traffic=traffic.withColumn('trafic_in', sf.regexp_replace('trafic_in', ',', '.'))\n",
    "traffic=traffic.withColumn('trafic_out', sf.regexp_replace('trafic_out', ',', '.'))\n",
    "\n",
    "traffic = traffic.withColumn('trafic_in', traffic.trafic_in.cast('float'))\n",
    "traffic = traffic.withColumn('trafic_out', traffic.trafic_out.cast('float'))\n",
    "\n",
    "traffic = traffic.filter(\"interface_equipement LIKE 'lag%'\").withColumn('traffic_max',sf.greatest(traffic.trafic_in, traffic.trafic_out))\n",
    "\n",
    "\n",
    "traffic_result = traffic.groupby(['equipement', 'interface_equipement', 'date']).max('traffic_max', 'trafic_out', 'trafic_in').toDF(*['equipement', 'interface_equipement','date', 'trafic_max', 'trafic_out', 'trafic_in',])"
   ],
   "metadata": {
    "collapsed": false
   }
  },
  {
   "cell_type": "code",
   "execution_count": 151,
   "outputs": [
    {
     "data": {
      "text/plain": "     equipement interface_equipement        date    trafic_max   trafic_out  \\\n0      PTN00247               lag-20  2022-08-01   1443.899902  1443.899902   \n1      PTN00026               lag-27  2022-08-01   6594.279785  6594.279785   \n2      PTN00110              lag-103  2022-08-01      0.166656     0.166656   \n3      PTN00255              lag-100  2022-08-01  23145.210938  3070.613037   \n4      PTN01446               lag-22  2022-08-01   6685.588379  6685.588379   \n...         ...                  ...         ...           ...          ...   \n1436   PTN00319               lag-24  2022-08-01   2462.129883   365.048248   \n1437   PTN00095               lag-21  2022-08-01   4674.581055  4674.581055   \n1438   PTN00075              lag-139  2022-08-01     18.686552    18.686552   \n1439   PTN00239                lag-1  2022-08-01      2.469640     2.469640   \n1440   PTN00100               lag-20  2022-08-01   4283.467285   385.070587   \n\n         trafic_in  \n0       415.637573  \n1       591.415649  \n2         0.001432  \n3     23145.210938  \n4       849.665283  \n...            ...  \n1436   2462.129883  \n1437    441.838348  \n1438      0.012232  \n1439      0.042856  \n1440   4283.467285  \n\n[1441 rows x 6 columns]",
      "text/html": "<div>\n<style scoped>\n    .dataframe tbody tr th:only-of-type {\n        vertical-align: middle;\n    }\n\n    .dataframe tbody tr th {\n        vertical-align: top;\n    }\n\n    .dataframe thead th {\n        text-align: right;\n    }\n</style>\n<table border=\"1\" class=\"dataframe\">\n  <thead>\n    <tr style=\"text-align: right;\">\n      <th></th>\n      <th>equipement</th>\n      <th>interface_equipement</th>\n      <th>date</th>\n      <th>trafic_max</th>\n      <th>trafic_out</th>\n      <th>trafic_in</th>\n    </tr>\n  </thead>\n  <tbody>\n    <tr>\n      <th>0</th>\n      <td>PTN00247</td>\n      <td>lag-20</td>\n      <td>2022-08-01</td>\n      <td>1443.899902</td>\n      <td>1443.899902</td>\n      <td>415.637573</td>\n    </tr>\n    <tr>\n      <th>1</th>\n      <td>PTN00026</td>\n      <td>lag-27</td>\n      <td>2022-08-01</td>\n      <td>6594.279785</td>\n      <td>6594.279785</td>\n      <td>591.415649</td>\n    </tr>\n    <tr>\n      <th>2</th>\n      <td>PTN00110</td>\n      <td>lag-103</td>\n      <td>2022-08-01</td>\n      <td>0.166656</td>\n      <td>0.166656</td>\n      <td>0.001432</td>\n    </tr>\n    <tr>\n      <th>3</th>\n      <td>PTN00255</td>\n      <td>lag-100</td>\n      <td>2022-08-01</td>\n      <td>23145.210938</td>\n      <td>3070.613037</td>\n      <td>23145.210938</td>\n    </tr>\n    <tr>\n      <th>4</th>\n      <td>PTN01446</td>\n      <td>lag-22</td>\n      <td>2022-08-01</td>\n      <td>6685.588379</td>\n      <td>6685.588379</td>\n      <td>849.665283</td>\n    </tr>\n    <tr>\n      <th>...</th>\n      <td>...</td>\n      <td>...</td>\n      <td>...</td>\n      <td>...</td>\n      <td>...</td>\n      <td>...</td>\n    </tr>\n    <tr>\n      <th>1436</th>\n      <td>PTN00319</td>\n      <td>lag-24</td>\n      <td>2022-08-01</td>\n      <td>2462.129883</td>\n      <td>365.048248</td>\n      <td>2462.129883</td>\n    </tr>\n    <tr>\n      <th>1437</th>\n      <td>PTN00095</td>\n      <td>lag-21</td>\n      <td>2022-08-01</td>\n      <td>4674.581055</td>\n      <td>4674.581055</td>\n      <td>441.838348</td>\n    </tr>\n    <tr>\n      <th>1438</th>\n      <td>PTN00075</td>\n      <td>lag-139</td>\n      <td>2022-08-01</td>\n      <td>18.686552</td>\n      <td>18.686552</td>\n      <td>0.012232</td>\n    </tr>\n    <tr>\n      <th>1439</th>\n      <td>PTN00239</td>\n      <td>lag-1</td>\n      <td>2022-08-01</td>\n      <td>2.469640</td>\n      <td>2.469640</td>\n      <td>0.042856</td>\n    </tr>\n    <tr>\n      <th>1440</th>\n      <td>PTN00100</td>\n      <td>lag-20</td>\n      <td>2022-08-01</td>\n      <td>4283.467285</td>\n      <td>385.070587</td>\n      <td>4283.467285</td>\n    </tr>\n  </tbody>\n</table>\n<p>1441 rows × 6 columns</p>\n</div>"
     },
     "execution_count": 151,
     "metadata": {},
     "output_type": "execute_result"
    }
   ],
   "source": [
    "traffic_result.toPandas()"
   ],
   "metadata": {
    "collapsed": false
   }
  },
  {
   "cell_type": "code",
   "execution_count": 152,
   "outputs": [],
   "source": [
    "# select unique of concerned topologie by 'equipement', 'client', 'port_lag_netwk'\n",
    "sub_top_unique = sub_topologie.dropDuplicates(['equipement', 'client', 'port_lag_netwk']).select('equipement', 'client', 'port_lag_netwk', 'type_port_ou_mda', 'interface_netwk')\n"
   ],
   "metadata": {
    "collapsed": false
   }
  },
  {
   "cell_type": "code",
   "execution_count": 153,
   "outputs": [],
   "source": [
    "# join subtract of topologie with traffic result computed earlier\n",
    "result = sub_top_unique.join(traffic_result, (traffic_result.equipement == sub_top_unique.equipement) & (traffic_result.interface_equipement == sub_top_unique.port_lag_netwk)).drop(traffic_result.equipement)"
   ],
   "metadata": {
    "collapsed": false
   }
  },
  {
   "cell_type": "code",
   "execution_count": 154,
   "outputs": [
    {
     "data": {
      "text/plain": "    equipement    client port_lag_netwk  type_port_ou_mda  \\\n0     PTN00247  PTN00246         lag-20                10   \n1     PTN00026  PTN00507         lag-27                10   \n2     PTN01446  PTN02406         lag-22                10   \n3     PTN00105  PTN00100         lag-21                10   \n4     PTN00092  PTN00073        lag-192                10   \n..         ...       ...            ...               ...   \n887   PTN00480  PTN00027         lag-22                10   \n888   PTN00488  PTN00486         lag-21                10   \n889   PTN00319  PTN00217         lag-24                10   \n890   PTN00095  PTN00104         lag-21                10   \n891   PTN00100  PTN00104         lag-20                10   \n\n         interface_netwk interface_equipement        date    trafic_max  \\\n0     TO_PTN00246_LAG_20               lag-20  2022-08-01   1443.899902   \n1      TO_PTN00507_LAG27               lag-27  2022-08-01   6594.279785   \n2      TO_PTN02406_LAG22               lag-22  2022-08-01   6685.588379   \n3      TO_PTN00100_LAG21               lag-21  2022-08-01   2527.676270   \n4    TO_PTN00073_LAG-192              lag-192  2022-08-01    505.761993   \n..                   ...                  ...         ...           ...   \n887    TO_PTN00027_LAG22               lag-22  2022-08-01   6746.111328   \n888    TO_PTN00486_LAG21               lag-21  2022-08-01  18644.550781   \n889    TO_PTN00217_LAG24               lag-24  2022-08-01   2462.129883   \n890    TO_PTN00104_LAG21               lag-21  2022-08-01   4674.581055   \n891    TO_PTN00104_LAG20               lag-20  2022-08-01   4283.467285   \n\n       trafic_out    trafic_in  \n0     1443.899902   415.637573  \n1     6594.279785   591.415649  \n2     6685.588379   849.665283  \n3       34.930023  2527.676270  \n4        0.252048   505.761993  \n..            ...          ...  \n887   1576.010742  6746.111328  \n888  18644.550781  2266.364746  \n889    365.048248  2462.129883  \n890   4674.581055   441.838348  \n891    385.070587  4283.467285  \n\n[892 rows x 10 columns]",
      "text/html": "<div>\n<style scoped>\n    .dataframe tbody tr th:only-of-type {\n        vertical-align: middle;\n    }\n\n    .dataframe tbody tr th {\n        vertical-align: top;\n    }\n\n    .dataframe thead th {\n        text-align: right;\n    }\n</style>\n<table border=\"1\" class=\"dataframe\">\n  <thead>\n    <tr style=\"text-align: right;\">\n      <th></th>\n      <th>equipement</th>\n      <th>client</th>\n      <th>port_lag_netwk</th>\n      <th>type_port_ou_mda</th>\n      <th>interface_netwk</th>\n      <th>interface_equipement</th>\n      <th>date</th>\n      <th>trafic_max</th>\n      <th>trafic_out</th>\n      <th>trafic_in</th>\n    </tr>\n  </thead>\n  <tbody>\n    <tr>\n      <th>0</th>\n      <td>PTN00247</td>\n      <td>PTN00246</td>\n      <td>lag-20</td>\n      <td>10</td>\n      <td>TO_PTN00246_LAG_20</td>\n      <td>lag-20</td>\n      <td>2022-08-01</td>\n      <td>1443.899902</td>\n      <td>1443.899902</td>\n      <td>415.637573</td>\n    </tr>\n    <tr>\n      <th>1</th>\n      <td>PTN00026</td>\n      <td>PTN00507</td>\n      <td>lag-27</td>\n      <td>10</td>\n      <td>TO_PTN00507_LAG27</td>\n      <td>lag-27</td>\n      <td>2022-08-01</td>\n      <td>6594.279785</td>\n      <td>6594.279785</td>\n      <td>591.415649</td>\n    </tr>\n    <tr>\n      <th>2</th>\n      <td>PTN01446</td>\n      <td>PTN02406</td>\n      <td>lag-22</td>\n      <td>10</td>\n      <td>TO_PTN02406_LAG22</td>\n      <td>lag-22</td>\n      <td>2022-08-01</td>\n      <td>6685.588379</td>\n      <td>6685.588379</td>\n      <td>849.665283</td>\n    </tr>\n    <tr>\n      <th>3</th>\n      <td>PTN00105</td>\n      <td>PTN00100</td>\n      <td>lag-21</td>\n      <td>10</td>\n      <td>TO_PTN00100_LAG21</td>\n      <td>lag-21</td>\n      <td>2022-08-01</td>\n      <td>2527.676270</td>\n      <td>34.930023</td>\n      <td>2527.676270</td>\n    </tr>\n    <tr>\n      <th>4</th>\n      <td>PTN00092</td>\n      <td>PTN00073</td>\n      <td>lag-192</td>\n      <td>10</td>\n      <td>TO_PTN00073_LAG-192</td>\n      <td>lag-192</td>\n      <td>2022-08-01</td>\n      <td>505.761993</td>\n      <td>0.252048</td>\n      <td>505.761993</td>\n    </tr>\n    <tr>\n      <th>...</th>\n      <td>...</td>\n      <td>...</td>\n      <td>...</td>\n      <td>...</td>\n      <td>...</td>\n      <td>...</td>\n      <td>...</td>\n      <td>...</td>\n      <td>...</td>\n      <td>...</td>\n    </tr>\n    <tr>\n      <th>887</th>\n      <td>PTN00480</td>\n      <td>PTN00027</td>\n      <td>lag-22</td>\n      <td>10</td>\n      <td>TO_PTN00027_LAG22</td>\n      <td>lag-22</td>\n      <td>2022-08-01</td>\n      <td>6746.111328</td>\n      <td>1576.010742</td>\n      <td>6746.111328</td>\n    </tr>\n    <tr>\n      <th>888</th>\n      <td>PTN00488</td>\n      <td>PTN00486</td>\n      <td>lag-21</td>\n      <td>10</td>\n      <td>TO_PTN00486_LAG21</td>\n      <td>lag-21</td>\n      <td>2022-08-01</td>\n      <td>18644.550781</td>\n      <td>18644.550781</td>\n      <td>2266.364746</td>\n    </tr>\n    <tr>\n      <th>889</th>\n      <td>PTN00319</td>\n      <td>PTN00217</td>\n      <td>lag-24</td>\n      <td>10</td>\n      <td>TO_PTN00217_LAG24</td>\n      <td>lag-24</td>\n      <td>2022-08-01</td>\n      <td>2462.129883</td>\n      <td>365.048248</td>\n      <td>2462.129883</td>\n    </tr>\n    <tr>\n      <th>890</th>\n      <td>PTN00095</td>\n      <td>PTN00104</td>\n      <td>lag-21</td>\n      <td>10</td>\n      <td>TO_PTN00104_LAG21</td>\n      <td>lag-21</td>\n      <td>2022-08-01</td>\n      <td>4674.581055</td>\n      <td>4674.581055</td>\n      <td>441.838348</td>\n    </tr>\n    <tr>\n      <th>891</th>\n      <td>PTN00100</td>\n      <td>PTN00104</td>\n      <td>lag-20</td>\n      <td>10</td>\n      <td>TO_PTN00104_LAG20</td>\n      <td>lag-20</td>\n      <td>2022-08-01</td>\n      <td>4283.467285</td>\n      <td>385.070587</td>\n      <td>4283.467285</td>\n    </tr>\n  </tbody>\n</table>\n<p>892 rows × 10 columns</p>\n</div>"
     },
     "execution_count": 154,
     "metadata": {},
     "output_type": "execute_result"
    }
   ],
   "source": [
    "result.toPandas()"
   ],
   "metadata": {
    "collapsed": false
   }
  },
  {
   "cell_type": "code",
   "execution_count": 155,
   "outputs": [
    {
     "data": {
      "text/plain": "  equipement    client port_lag_netwk  type_port_ou_mda    interface_netwk  \\\n0   PTN00216  PTN00218         lag-21                10  TO_PTN00218_LAG21   \n1   PTN00218  PTN00216         lag-21                10  TO_PTN00216_LAG21   \n\n  interface_equipement        date   trafic_max   trafic_out    trafic_in  \n0               lag-21  2022-08-01  7023.918457  7023.918457   869.327148  \n1               lag-21  2022-08-01  7034.388184   867.169983  7034.388184  ",
      "text/html": "<div>\n<style scoped>\n    .dataframe tbody tr th:only-of-type {\n        vertical-align: middle;\n    }\n\n    .dataframe tbody tr th {\n        vertical-align: top;\n    }\n\n    .dataframe thead th {\n        text-align: right;\n    }\n</style>\n<table border=\"1\" class=\"dataframe\">\n  <thead>\n    <tr style=\"text-align: right;\">\n      <th></th>\n      <th>equipement</th>\n      <th>client</th>\n      <th>port_lag_netwk</th>\n      <th>type_port_ou_mda</th>\n      <th>interface_netwk</th>\n      <th>interface_equipement</th>\n      <th>date</th>\n      <th>trafic_max</th>\n      <th>trafic_out</th>\n      <th>trafic_in</th>\n    </tr>\n  </thead>\n  <tbody>\n    <tr>\n      <th>0</th>\n      <td>PTN00216</td>\n      <td>PTN00218</td>\n      <td>lag-21</td>\n      <td>10</td>\n      <td>TO_PTN00218_LAG21</td>\n      <td>lag-21</td>\n      <td>2022-08-01</td>\n      <td>7023.918457</td>\n      <td>7023.918457</td>\n      <td>869.327148</td>\n    </tr>\n    <tr>\n      <th>1</th>\n      <td>PTN00218</td>\n      <td>PTN00216</td>\n      <td>lag-21</td>\n      <td>10</td>\n      <td>TO_PTN00216_LAG21</td>\n      <td>lag-21</td>\n      <td>2022-08-01</td>\n      <td>7034.388184</td>\n      <td>867.169983</td>\n      <td>7034.388184</td>\n    </tr>\n  </tbody>\n</table>\n</div>"
     },
     "execution_count": 155,
     "metadata": {},
     "output_type": "execute_result"
    }
   ],
   "source": [
    "# check if result correspond to given example\n",
    "result.filter(\"equipement IN ('PTN00216','PTN00218') AND client IN ('PTN00216','PTN00218')\").toPandas()"
   ],
   "metadata": {
    "collapsed": false
   }
  },
  {
   "cell_type": "code",
   "execution_count": 156,
   "outputs": [],
   "source": [
    "# add geographique information for equipement and client\n",
    "\n",
    "geographique_renamed_column_A = geographique.toDF(*add_to_col_name(geographique, '_A'))\n",
    "merged_result = result.join(geographique_renamed_column_A, result.equipement == geographique_renamed_column_A.nom_equipement_A)\n",
    "\n",
    "geographique_renamed_column_B = geographique.toDF(*add_to_col_name(geographique, '_B'))\n",
    "merged_result = merged_result.join(geographique_renamed_column_B, merged_result.equipement == geographique_renamed_column_B.nom_equipement_B)\n"
   ],
   "metadata": {
    "collapsed": false
   }
  },
  {
   "cell_type": "code",
   "execution_count": 157,
   "outputs": [],
   "source": [
    "merged_result = merged_result.drop(*['nom_equipement_A', 'nom_equipement_B'])"
   ],
   "metadata": {
    "collapsed": false
   }
  },
  {
   "cell_type": "code",
   "execution_count": 158,
   "outputs": [],
   "source": [
    "# get capacite_lien\n",
    "sub_topologie=sub_topologie.withColumn('type_port_ou_mda', sf.regexp_replace('type_port_ou_mda', 'G', ''))\n",
    "sub_topologie=sub_topologie.withColumn('type_port_ou_mda',sub_topologie.type_port_ou_mda.cast('int'))\n",
    "capacite_lien = sub_topologie.groupby(['equipement', 'client']).sum('type_port_ou_mda').withColumnRenamed('sum(type_port_ou_mda)', 'capacite_lien')"
   ],
   "metadata": {
    "collapsed": false
   }
  },
  {
   "cell_type": "code",
   "execution_count": 159,
   "outputs": [],
   "source": [
    "# merge result with capacite_lien\n",
    "res = merged_result.join(capacite_lien, on=['equipement', 'client'])"
   ],
   "metadata": {
    "collapsed": false
   }
  },
  {
   "cell_type": "code",
   "execution_count": 161,
   "outputs": [
    {
     "data": {
      "text/plain": "    equipement    client port_lag_netwk  type_port_ou_mda  \\\n0     PTN00247  PTN00246         lag-20                10   \n1     PTN00026  PTN00507         lag-27                10   \n2     PTN01446  PTN02406         lag-22                10   \n3     PTN00105  PTN00100         lag-21                10   \n4     PTN00092  PTN00073        lag-192                10   \n..         ...       ...            ...               ...   \n887   PTN00480  PTN00027         lag-22                10   \n888   PTN00488  PTN00486         lag-21                10   \n889   PTN00319  PTN00217         lag-24                10   \n890   PTN00095  PTN00104         lag-21                10   \n891   PTN00100  PTN00104         lag-20                10   \n\n         interface_netwk interface_equipement        date    trafic_max  \\\n0     TO_PTN00246_LAG_20               lag-20  2022-08-01   1443.899902   \n1      TO_PTN00507_LAG27               lag-27  2022-08-01   6594.279785   \n2      TO_PTN02406_LAG22               lag-22  2022-08-01   6685.588379   \n3      TO_PTN00100_LAG21               lag-21  2022-08-01   2527.676270   \n4    TO_PTN00073_LAG-192              lag-192  2022-08-01    505.761993   \n..                   ...                  ...         ...           ...   \n887    TO_PTN00027_LAG22               lag-22  2022-08-01   6746.111328   \n888    TO_PTN00486_LAG21               lag-21  2022-08-01  18644.550781   \n889    TO_PTN00217_LAG24               lag-24  2022-08-01   2462.129883   \n890    TO_PTN00104_LAG21               lag-21  2022-08-01   4674.581055   \n891    TO_PTN00104_LAG20               lag-20  2022-08-01   4283.467285   \n\n       trafic_out    trafic_in role_A configuration_A region_exploitation_A  \\\n0     1443.899902   415.637573      B        7750-SR7                   WST   \n1     6594.279785   591.415649      A       7750-SR12                   WST   \n2     6685.588379   849.665283      B        7750-SR7                   CTA   \n3       34.930023  2527.676270      B        7750-SR7                   MED   \n4        0.252048   505.761993      B        7750-SR7                   IDF   \n..            ...          ...    ...             ...                   ...   \n887   1576.010742  6746.111328      B        7750-SR7                   WST   \n888  18644.550781  2266.364746      B        7750-SR7                   WST   \n889    365.048248  2462.129883      B        7750-SR7                   NOE   \n890   4674.581055   441.838348      A       7750-SR12                   MED   \n891    385.070587  4283.467285      B        7750-SR7                   MED   \n\n    role_B configuration_B region_exploitation_B  capacite_lien  \n0        B        7750-SR7                   WST             40  \n1        A       7750-SR12                   WST             10  \n2        B        7750-SR7                   CTA             40  \n3        B        7750-SR7                   MED             20  \n4        B        7750-SR7                   IDF             50  \n..     ...             ...                   ...            ...  \n887      B        7750-SR7                   WST             20  \n888      B        7750-SR7                   WST             30  \n889      B        7750-SR7                   NOE             30  \n890      A       7750-SR12                   MED             20  \n891      B        7750-SR7                   MED             20  \n\n[892 rows x 17 columns]",
      "text/html": "<div>\n<style scoped>\n    .dataframe tbody tr th:only-of-type {\n        vertical-align: middle;\n    }\n\n    .dataframe tbody tr th {\n        vertical-align: top;\n    }\n\n    .dataframe thead th {\n        text-align: right;\n    }\n</style>\n<table border=\"1\" class=\"dataframe\">\n  <thead>\n    <tr style=\"text-align: right;\">\n      <th></th>\n      <th>equipement</th>\n      <th>client</th>\n      <th>port_lag_netwk</th>\n      <th>type_port_ou_mda</th>\n      <th>interface_netwk</th>\n      <th>interface_equipement</th>\n      <th>date</th>\n      <th>trafic_max</th>\n      <th>trafic_out</th>\n      <th>trafic_in</th>\n      <th>role_A</th>\n      <th>configuration_A</th>\n      <th>region_exploitation_A</th>\n      <th>role_B</th>\n      <th>configuration_B</th>\n      <th>region_exploitation_B</th>\n      <th>capacite_lien</th>\n    </tr>\n  </thead>\n  <tbody>\n    <tr>\n      <th>0</th>\n      <td>PTN00247</td>\n      <td>PTN00246</td>\n      <td>lag-20</td>\n      <td>10</td>\n      <td>TO_PTN00246_LAG_20</td>\n      <td>lag-20</td>\n      <td>2022-08-01</td>\n      <td>1443.899902</td>\n      <td>1443.899902</td>\n      <td>415.637573</td>\n      <td>B</td>\n      <td>7750-SR7</td>\n      <td>WST</td>\n      <td>B</td>\n      <td>7750-SR7</td>\n      <td>WST</td>\n      <td>40</td>\n    </tr>\n    <tr>\n      <th>1</th>\n      <td>PTN00026</td>\n      <td>PTN00507</td>\n      <td>lag-27</td>\n      <td>10</td>\n      <td>TO_PTN00507_LAG27</td>\n      <td>lag-27</td>\n      <td>2022-08-01</td>\n      <td>6594.279785</td>\n      <td>6594.279785</td>\n      <td>591.415649</td>\n      <td>A</td>\n      <td>7750-SR12</td>\n      <td>WST</td>\n      <td>A</td>\n      <td>7750-SR12</td>\n      <td>WST</td>\n      <td>10</td>\n    </tr>\n    <tr>\n      <th>2</th>\n      <td>PTN01446</td>\n      <td>PTN02406</td>\n      <td>lag-22</td>\n      <td>10</td>\n      <td>TO_PTN02406_LAG22</td>\n      <td>lag-22</td>\n      <td>2022-08-01</td>\n      <td>6685.588379</td>\n      <td>6685.588379</td>\n      <td>849.665283</td>\n      <td>B</td>\n      <td>7750-SR7</td>\n      <td>CTA</td>\n      <td>B</td>\n      <td>7750-SR7</td>\n      <td>CTA</td>\n      <td>40</td>\n    </tr>\n    <tr>\n      <th>3</th>\n      <td>PTN00105</td>\n      <td>PTN00100</td>\n      <td>lag-21</td>\n      <td>10</td>\n      <td>TO_PTN00100_LAG21</td>\n      <td>lag-21</td>\n      <td>2022-08-01</td>\n      <td>2527.676270</td>\n      <td>34.930023</td>\n      <td>2527.676270</td>\n      <td>B</td>\n      <td>7750-SR7</td>\n      <td>MED</td>\n      <td>B</td>\n      <td>7750-SR7</td>\n      <td>MED</td>\n      <td>20</td>\n    </tr>\n    <tr>\n      <th>4</th>\n      <td>PTN00092</td>\n      <td>PTN00073</td>\n      <td>lag-192</td>\n      <td>10</td>\n      <td>TO_PTN00073_LAG-192</td>\n      <td>lag-192</td>\n      <td>2022-08-01</td>\n      <td>505.761993</td>\n      <td>0.252048</td>\n      <td>505.761993</td>\n      <td>B</td>\n      <td>7750-SR7</td>\n      <td>IDF</td>\n      <td>B</td>\n      <td>7750-SR7</td>\n      <td>IDF</td>\n      <td>50</td>\n    </tr>\n    <tr>\n      <th>...</th>\n      <td>...</td>\n      <td>...</td>\n      <td>...</td>\n      <td>...</td>\n      <td>...</td>\n      <td>...</td>\n      <td>...</td>\n      <td>...</td>\n      <td>...</td>\n      <td>...</td>\n      <td>...</td>\n      <td>...</td>\n      <td>...</td>\n      <td>...</td>\n      <td>...</td>\n      <td>...</td>\n      <td>...</td>\n    </tr>\n    <tr>\n      <th>887</th>\n      <td>PTN00480</td>\n      <td>PTN00027</td>\n      <td>lag-22</td>\n      <td>10</td>\n      <td>TO_PTN00027_LAG22</td>\n      <td>lag-22</td>\n      <td>2022-08-01</td>\n      <td>6746.111328</td>\n      <td>1576.010742</td>\n      <td>6746.111328</td>\n      <td>B</td>\n      <td>7750-SR7</td>\n      <td>WST</td>\n      <td>B</td>\n      <td>7750-SR7</td>\n      <td>WST</td>\n      <td>20</td>\n    </tr>\n    <tr>\n      <th>888</th>\n      <td>PTN00488</td>\n      <td>PTN00486</td>\n      <td>lag-21</td>\n      <td>10</td>\n      <td>TO_PTN00486_LAG21</td>\n      <td>lag-21</td>\n      <td>2022-08-01</td>\n      <td>18644.550781</td>\n      <td>18644.550781</td>\n      <td>2266.364746</td>\n      <td>B</td>\n      <td>7750-SR7</td>\n      <td>WST</td>\n      <td>B</td>\n      <td>7750-SR7</td>\n      <td>WST</td>\n      <td>30</td>\n    </tr>\n    <tr>\n      <th>889</th>\n      <td>PTN00319</td>\n      <td>PTN00217</td>\n      <td>lag-24</td>\n      <td>10</td>\n      <td>TO_PTN00217_LAG24</td>\n      <td>lag-24</td>\n      <td>2022-08-01</td>\n      <td>2462.129883</td>\n      <td>365.048248</td>\n      <td>2462.129883</td>\n      <td>B</td>\n      <td>7750-SR7</td>\n      <td>NOE</td>\n      <td>B</td>\n      <td>7750-SR7</td>\n      <td>NOE</td>\n      <td>30</td>\n    </tr>\n    <tr>\n      <th>890</th>\n      <td>PTN00095</td>\n      <td>PTN00104</td>\n      <td>lag-21</td>\n      <td>10</td>\n      <td>TO_PTN00104_LAG21</td>\n      <td>lag-21</td>\n      <td>2022-08-01</td>\n      <td>4674.581055</td>\n      <td>4674.581055</td>\n      <td>441.838348</td>\n      <td>A</td>\n      <td>7750-SR12</td>\n      <td>MED</td>\n      <td>A</td>\n      <td>7750-SR12</td>\n      <td>MED</td>\n      <td>20</td>\n    </tr>\n    <tr>\n      <th>891</th>\n      <td>PTN00100</td>\n      <td>PTN00104</td>\n      <td>lag-20</td>\n      <td>10</td>\n      <td>TO_PTN00104_LAG20</td>\n      <td>lag-20</td>\n      <td>2022-08-01</td>\n      <td>4283.467285</td>\n      <td>385.070587</td>\n      <td>4283.467285</td>\n      <td>B</td>\n      <td>7750-SR7</td>\n      <td>MED</td>\n      <td>B</td>\n      <td>7750-SR7</td>\n      <td>MED</td>\n      <td>20</td>\n    </tr>\n  </tbody>\n</table>\n<p>892 rows × 17 columns</p>\n</div>"
     },
     "execution_count": 161,
     "metadata": {},
     "output_type": "execute_result"
    }
   ],
   "source": [
    "res.toPandas()"
   ],
   "metadata": {
    "collapsed": false
   }
  },
  {
   "cell_type": "code",
   "execution_count": 162,
   "outputs": [],
   "source": [
    "# create columns tdc\n",
    "res = res.withColumn('tdc', ((res.trafic_max)/1000)/res.capacite_lien * 100)"
   ],
   "metadata": {
    "collapsed": false
   }
  },
  {
   "cell_type": "code",
   "execution_count": 163,
   "outputs": [],
   "source": [],
   "metadata": {
    "collapsed": false
   }
  },
  {
   "cell_type": "code",
   "execution_count": 166,
   "outputs": [],
   "source": [
    "merged_result = res.join(isis, (res.equipement == isis.nom_equipement) & (res.interface_netwk == isis.interface_netwk)).drop(isis.interface_netwk).drop(res.interface_netwk).drop(*['region_exploitation_A', 'nom_equipement', 'port', 'type_port_ou_mda']).withColumnRenamed('region_Exploitation_B', 'region_Exploitation').withColumnRenamed('port_lag_netwk', 'interface_client')\n"
   ],
   "metadata": {
    "collapsed": false
   }
  },
  {
   "cell_type": "code",
   "execution_count": 167,
   "outputs": [],
   "source": [
    "# MB to giga\n",
    "\n",
    "col_list = ['trafic_max', 'trafic_in', 'trafic_out']\n",
    "for col in col_list:\n",
    "    merged_result = merged_result.withColumn(col, merged_result[col] / 1000)"
   ],
   "metadata": {
    "collapsed": false
   }
  },
  {
   "cell_type": "code",
   "execution_count": 177,
   "outputs": [],
   "source": [
    "# add id lien column\n",
    "merged_result = merged_result.withColumn(\"id_lien\", sf.concat(merged_result.equipement, sf.lit('_'), merged_result.client))"
   ],
   "metadata": {
    "collapsed": false
   }
  },
  {
   "cell_type": "code",
   "execution_count": 178,
   "outputs": [],
   "source": [
    "from pyspark.sql.types import StringType\n",
    "def get_intervalle_charge(value):\n",
    "    if value <=70:\n",
    "        return 'Inf 70%'\n",
    "    else:\n",
    "        if value<=90:\n",
    "            return 'Sup 70% Inf 90%'\n",
    "        else:\n",
    "            if value<100:\n",
    "                return 'Sup 90%'\n",
    "            else:\n",
    "                return 'Erreur'\n",
    "\n",
    "\n",
    "\n"
   ],
   "metadata": {
    "collapsed": false
   }
  },
  {
   "cell_type": "code",
   "execution_count": 179,
   "outputs": [],
   "source": [
    "# issues : this can't work\n",
    "# int_charge = sf.udf(lambda z:get_intervalle_charge(z), StringType())\n",
    "# merged_result.withColumn(\"intervalle_charge\", int_charge(merged_result.tdc))\n",
    "\n",
    "# little hack for intervalle charge\n",
    "df_pandas_result = merged_result.toPandas()\n",
    "df_pandas_result[\"intervalle_charge\"] = df_pandas_result.tdc.map(lambda z: get_intervalle_charge(z))"
   ],
   "metadata": {
    "collapsed": false
   }
  },
  {
   "cell_type": "code",
   "execution_count": 180,
   "outputs": [
    {
     "data": {
      "text/plain": "     equipement    client interface_client interface_equipement        date  \\\n0      PTN00247  PTN00246           lag-20               lag-20  2022-08-01   \n1      PTN00247  PTN00246           lag-20               lag-20  2022-08-01   \n2      PTN00247  PTN00246           lag-20               lag-20  2022-08-01   \n3      PTN00247  PTN00246           lag-20               lag-20  2022-08-01   \n4      PTN00026  PTN00507           lag-27               lag-27  2022-08-01   \n...         ...       ...              ...                  ...         ...   \n2529   PTN00319  PTN00217           lag-24               lag-24  2022-08-01   \n2530   PTN00095  PTN00104           lag-21               lag-21  2022-08-01   \n2531   PTN00095  PTN00104           lag-21               lag-21  2022-08-01   \n2532   PTN00100  PTN00104           lag-20               lag-20  2022-08-01   \n2533   PTN00100  PTN00104           lag-20               lag-20  2022-08-01   \n\n      trafic_max  trafic_out  trafic_in role_A configuration_A role_B  \\\n0       1.443900    1.443900   0.415638      B        7750-SR7      B   \n1       1.443900    1.443900   0.415638      B        7750-SR7      B   \n2       1.443900    1.443900   0.415638      B        7750-SR7      B   \n3       1.443900    1.443900   0.415638      B        7750-SR7      B   \n4       6.594280    6.594280   0.591416      A       7750-SR12      A   \n...          ...         ...        ...    ...             ...    ...   \n2529    2.462130    0.365048   2.462130      B        7750-SR7      B   \n2530    4.674581    4.674581   0.441838      A       7750-SR12      A   \n2531    4.674581    4.674581   0.441838      A       7750-SR12      A   \n2532    4.283467    0.385071   4.283467      B        7750-SR7      B   \n2533    4.283467    0.385071   4.283467      B        7750-SR7      B   \n\n     configuration_B region_Exploitation  capacite_lien        tdc isis_level  \\\n0           7750-SR7                 WST             40   3.609750          1   \n1           7750-SR7                 WST             40   3.609750          1   \n2           7750-SR7                 WST             40   3.609750          1   \n3           7750-SR7                 WST             40   3.609750          1   \n4          7750-SR12                 WST             10  65.942798          1   \n...              ...                 ...            ...        ...        ...   \n2529        7750-SR7                 NOE             30   8.207100          1   \n2530       7750-SR12                 MED             20  23.372905          1   \n2531       7750-SR12                 MED             20  23.372905          1   \n2532        7750-SR7                 MED             20  21.417336          1   \n2533        7750-SR7                 MED             20  21.417336          1   \n\n     isis_metric            id_lien intervalle_charge  \n0             10  PTN00247_PTN00246           Inf 70%  \n1             10  PTN00247_PTN00246           Inf 70%  \n2             10  PTN00247_PTN00246           Inf 70%  \n3             10  PTN00247_PTN00246           Inf 70%  \n4             20  PTN00026_PTN00507           Inf 70%  \n...          ...                ...               ...  \n2529          10  PTN00319_PTN00217           Inf 70%  \n2530          10  PTN00095_PTN00104           Inf 70%  \n2531          10  PTN00095_PTN00104           Inf 70%  \n2532          10  PTN00100_PTN00104           Inf 70%  \n2533          10  PTN00100_PTN00104           Inf 70%  \n\n[2534 rows x 19 columns]",
      "text/html": "<div>\n<style scoped>\n    .dataframe tbody tr th:only-of-type {\n        vertical-align: middle;\n    }\n\n    .dataframe tbody tr th {\n        vertical-align: top;\n    }\n\n    .dataframe thead th {\n        text-align: right;\n    }\n</style>\n<table border=\"1\" class=\"dataframe\">\n  <thead>\n    <tr style=\"text-align: right;\">\n      <th></th>\n      <th>equipement</th>\n      <th>client</th>\n      <th>interface_client</th>\n      <th>interface_equipement</th>\n      <th>date</th>\n      <th>trafic_max</th>\n      <th>trafic_out</th>\n      <th>trafic_in</th>\n      <th>role_A</th>\n      <th>configuration_A</th>\n      <th>role_B</th>\n      <th>configuration_B</th>\n      <th>region_Exploitation</th>\n      <th>capacite_lien</th>\n      <th>tdc</th>\n      <th>isis_level</th>\n      <th>isis_metric</th>\n      <th>id_lien</th>\n      <th>intervalle_charge</th>\n    </tr>\n  </thead>\n  <tbody>\n    <tr>\n      <th>0</th>\n      <td>PTN00247</td>\n      <td>PTN00246</td>\n      <td>lag-20</td>\n      <td>lag-20</td>\n      <td>2022-08-01</td>\n      <td>1.443900</td>\n      <td>1.443900</td>\n      <td>0.415638</td>\n      <td>B</td>\n      <td>7750-SR7</td>\n      <td>B</td>\n      <td>7750-SR7</td>\n      <td>WST</td>\n      <td>40</td>\n      <td>3.609750</td>\n      <td>1</td>\n      <td>10</td>\n      <td>PTN00247_PTN00246</td>\n      <td>Inf 70%</td>\n    </tr>\n    <tr>\n      <th>1</th>\n      <td>PTN00247</td>\n      <td>PTN00246</td>\n      <td>lag-20</td>\n      <td>lag-20</td>\n      <td>2022-08-01</td>\n      <td>1.443900</td>\n      <td>1.443900</td>\n      <td>0.415638</td>\n      <td>B</td>\n      <td>7750-SR7</td>\n      <td>B</td>\n      <td>7750-SR7</td>\n      <td>WST</td>\n      <td>40</td>\n      <td>3.609750</td>\n      <td>1</td>\n      <td>10</td>\n      <td>PTN00247_PTN00246</td>\n      <td>Inf 70%</td>\n    </tr>\n    <tr>\n      <th>2</th>\n      <td>PTN00247</td>\n      <td>PTN00246</td>\n      <td>lag-20</td>\n      <td>lag-20</td>\n      <td>2022-08-01</td>\n      <td>1.443900</td>\n      <td>1.443900</td>\n      <td>0.415638</td>\n      <td>B</td>\n      <td>7750-SR7</td>\n      <td>B</td>\n      <td>7750-SR7</td>\n      <td>WST</td>\n      <td>40</td>\n      <td>3.609750</td>\n      <td>1</td>\n      <td>10</td>\n      <td>PTN00247_PTN00246</td>\n      <td>Inf 70%</td>\n    </tr>\n    <tr>\n      <th>3</th>\n      <td>PTN00247</td>\n      <td>PTN00246</td>\n      <td>lag-20</td>\n      <td>lag-20</td>\n      <td>2022-08-01</td>\n      <td>1.443900</td>\n      <td>1.443900</td>\n      <td>0.415638</td>\n      <td>B</td>\n      <td>7750-SR7</td>\n      <td>B</td>\n      <td>7750-SR7</td>\n      <td>WST</td>\n      <td>40</td>\n      <td>3.609750</td>\n      <td>1</td>\n      <td>10</td>\n      <td>PTN00247_PTN00246</td>\n      <td>Inf 70%</td>\n    </tr>\n    <tr>\n      <th>4</th>\n      <td>PTN00026</td>\n      <td>PTN00507</td>\n      <td>lag-27</td>\n      <td>lag-27</td>\n      <td>2022-08-01</td>\n      <td>6.594280</td>\n      <td>6.594280</td>\n      <td>0.591416</td>\n      <td>A</td>\n      <td>7750-SR12</td>\n      <td>A</td>\n      <td>7750-SR12</td>\n      <td>WST</td>\n      <td>10</td>\n      <td>65.942798</td>\n      <td>1</td>\n      <td>20</td>\n      <td>PTN00026_PTN00507</td>\n      <td>Inf 70%</td>\n    </tr>\n    <tr>\n      <th>...</th>\n      <td>...</td>\n      <td>...</td>\n      <td>...</td>\n      <td>...</td>\n      <td>...</td>\n      <td>...</td>\n      <td>...</td>\n      <td>...</td>\n      <td>...</td>\n      <td>...</td>\n      <td>...</td>\n      <td>...</td>\n      <td>...</td>\n      <td>...</td>\n      <td>...</td>\n      <td>...</td>\n      <td>...</td>\n      <td>...</td>\n      <td>...</td>\n    </tr>\n    <tr>\n      <th>2529</th>\n      <td>PTN00319</td>\n      <td>PTN00217</td>\n      <td>lag-24</td>\n      <td>lag-24</td>\n      <td>2022-08-01</td>\n      <td>2.462130</td>\n      <td>0.365048</td>\n      <td>2.462130</td>\n      <td>B</td>\n      <td>7750-SR7</td>\n      <td>B</td>\n      <td>7750-SR7</td>\n      <td>NOE</td>\n      <td>30</td>\n      <td>8.207100</td>\n      <td>1</td>\n      <td>10</td>\n      <td>PTN00319_PTN00217</td>\n      <td>Inf 70%</td>\n    </tr>\n    <tr>\n      <th>2530</th>\n      <td>PTN00095</td>\n      <td>PTN00104</td>\n      <td>lag-21</td>\n      <td>lag-21</td>\n      <td>2022-08-01</td>\n      <td>4.674581</td>\n      <td>4.674581</td>\n      <td>0.441838</td>\n      <td>A</td>\n      <td>7750-SR12</td>\n      <td>A</td>\n      <td>7750-SR12</td>\n      <td>MED</td>\n      <td>20</td>\n      <td>23.372905</td>\n      <td>1</td>\n      <td>10</td>\n      <td>PTN00095_PTN00104</td>\n      <td>Inf 70%</td>\n    </tr>\n    <tr>\n      <th>2531</th>\n      <td>PTN00095</td>\n      <td>PTN00104</td>\n      <td>lag-21</td>\n      <td>lag-21</td>\n      <td>2022-08-01</td>\n      <td>4.674581</td>\n      <td>4.674581</td>\n      <td>0.441838</td>\n      <td>A</td>\n      <td>7750-SR12</td>\n      <td>A</td>\n      <td>7750-SR12</td>\n      <td>MED</td>\n      <td>20</td>\n      <td>23.372905</td>\n      <td>1</td>\n      <td>10</td>\n      <td>PTN00095_PTN00104</td>\n      <td>Inf 70%</td>\n    </tr>\n    <tr>\n      <th>2532</th>\n      <td>PTN00100</td>\n      <td>PTN00104</td>\n      <td>lag-20</td>\n      <td>lag-20</td>\n      <td>2022-08-01</td>\n      <td>4.283467</td>\n      <td>0.385071</td>\n      <td>4.283467</td>\n      <td>B</td>\n      <td>7750-SR7</td>\n      <td>B</td>\n      <td>7750-SR7</td>\n      <td>MED</td>\n      <td>20</td>\n      <td>21.417336</td>\n      <td>1</td>\n      <td>10</td>\n      <td>PTN00100_PTN00104</td>\n      <td>Inf 70%</td>\n    </tr>\n    <tr>\n      <th>2533</th>\n      <td>PTN00100</td>\n      <td>PTN00104</td>\n      <td>lag-20</td>\n      <td>lag-20</td>\n      <td>2022-08-01</td>\n      <td>4.283467</td>\n      <td>0.385071</td>\n      <td>4.283467</td>\n      <td>B</td>\n      <td>7750-SR7</td>\n      <td>B</td>\n      <td>7750-SR7</td>\n      <td>MED</td>\n      <td>20</td>\n      <td>21.417336</td>\n      <td>1</td>\n      <td>10</td>\n      <td>PTN00100_PTN00104</td>\n      <td>Inf 70%</td>\n    </tr>\n  </tbody>\n</table>\n<p>2534 rows × 19 columns</p>\n</div>"
     },
     "execution_count": 180,
     "metadata": {},
     "output_type": "execute_result"
    }
   ],
   "source": [
    "df_pandas_result"
   ],
   "metadata": {
    "collapsed": false
   }
  },
  {
   "cell_type": "code",
   "execution_count": 182,
   "outputs": [],
   "source": [
    "df_pandas_result.to_csv('traffic_result.csv')"
   ],
   "metadata": {
    "collapsed": false
   }
  },
  {
   "cell_type": "code",
   "execution_count": null,
   "outputs": [],
   "source": [
    "\n",
    "\n"
   ],
   "metadata": {
    "collapsed": false
   }
  }
 ],
 "metadata": {
  "kernelspec": {
   "display_name": "Python 3",
   "language": "python",
   "name": "python3"
  },
  "language_info": {
   "codemirror_mode": {
    "name": "ipython",
    "version": 2
   },
   "file_extension": ".py",
   "mimetype": "text/x-python",
   "name": "python",
   "nbconvert_exporter": "python",
   "pygments_lexer": "ipython2",
   "version": "2.7.6"
  }
 },
 "nbformat": 4,
 "nbformat_minor": 0
}
