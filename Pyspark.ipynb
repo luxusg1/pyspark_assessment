{
 "cells": [
  {
   "cell_type": "code",
   "execution_count": 2,
   "outputs": [],
   "source": [
    "# import all necessary package\n",
    "\n",
    "from pyspark.sql import SparkSession\n",
    "from pyspark.sql import functions as sf\n",
    "import pandas as pd"
   ],
   "metadata": {
    "collapsed": false
   }
  },
  {
   "cell_type": "code",
   "execution_count": 3,
   "outputs": [],
   "source": [
    "# create session\n",
    "spark = SparkSession.builder.appName('ExoPySpark').getOrCreate()"
   ],
   "metadata": {
    "collapsed": false
   }
  },
  {
   "cell_type": "code",
   "execution_count": 5,
   "outputs": [],
   "source": [
    "# create a temporary table for each csv file\n",
    "dir = 'Exo_PySpark'\n",
    "\n",
    "data_path_dict = {\n",
    "    'traffic':f'{dir}/fichier1_trafic.csv',\n",
    "    'topologie':f'{dir}/fichier2_topologie.csv',\n",
    "    'geographique':f'{dir}/fichier3_Donnees_geographique.csv',\n",
    "    'isis':f'{dir}/fichier4_couts_ISIS.csv'\n",
    "}\n",
    "\n",
    "for table_name , path in data_path_dict.items():\n",
    "    spark.read.option('header',True).csv(path).createOrReplaceTempView(table_name)\n"
   ],
   "metadata": {
    "collapsed": false
   }
  },
  {
   "cell_type": "code",
   "execution_count": 6,
   "outputs": [
    {
     "data": {
      "text/plain": "[Table(name='geographique', database=None, description=None, tableType='TEMPORARY', isTemporary=True),\n Table(name='isis', database=None, description=None, tableType='TEMPORARY', isTemporary=True),\n Table(name='topologie', database=None, description=None, tableType='TEMPORARY', isTemporary=True),\n Table(name='traffic', database=None, description=None, tableType='TEMPORARY', isTemporary=True)]"
     },
     "execution_count": 6,
     "metadata": {},
     "output_type": "execute_result"
    }
   ],
   "source": [
    "# check if all tables are included\n",
    "spark.catalog.listTables()"
   ],
   "metadata": {
    "collapsed": false
   }
  },
  {
   "cell_type": "code",
   "execution_count": 7,
   "outputs": [],
   "source": [
    "# Filter on file 2\n",
    "topologie = spark.table('topologie')\n",
    "isis =  spark.table('isis')\n",
    "geographique = spark.table('geographique')\n",
    "traffic = spark.table('traffic')\n",
    "\n",
    "# Issues :\n",
    "# there is row with admin_state_port = Connexion KO\n",
    "# Is the filter expression the best way to do the task\n",
    "\n",
    "\n",
    "sub_topologie = topologie.filter(\"equipement LIKE 'PTN%' AND client LIKE '%PTN%' AND admin_state_port!='down' AND vlan=='NA' AND type_port_ou_mda == '10G'\")\\\n",
    "    .withColumn('id_lien', sf.concat(topologie.equipement, sf.lit('_'), topologie.client))\\\n",
    "    .select('equipement', 'client', 'port', 'portlldp', 'interface_netwk')"
   ],
   "metadata": {
    "collapsed": false
   }
  },
  {
   "cell_type": "code",
   "execution_count": 8,
   "outputs": [],
   "source": [
    "# step to follow\n",
    "# function which add a string value to the column name of a spark dataframe\n",
    "def add_to_col_name(df, value):\n",
    "    return [column_name + value for column_name in df.columns]\n",
    "\n",
    "# 1. merge topology table filtered result with isis using inner join by (nom_equipement, port, interface_netwk)\n",
    "\n",
    "isis_renamed = isis.withColumnRenamed(\"nom_equipement\",\"equipement\")\n",
    "merged_result = sub_topologie.join(isis_renamed, on=['equipement', 'port', 'interface_netwk'], how='inner')\n",
    "\n",
    "# 2. merge result by client = geographique.nom_equipement to give column with _A\n",
    "\n",
    "geographique_renamed_column_A = geographique.toDF(*add_to_col_name(geographique, '_A'))\n",
    "merged_result = merged_result.join(geographique_renamed_column_A, merged_result.equipement == geographique_renamed_column_A.nom_equipement_A)\n",
    "\n",
    "# 3. merge result by client = geographique.nom_equipement to give column with _B\n",
    "\n",
    "geographique_renamed_column_B = geographique.toDF(*add_to_col_name(geographique, '_B'))\n",
    "merged_result = merged_result.join(geographique_renamed_column_B, merged_result.equipement == geographique_renamed_column_B.nom_equipement_B)\n",
    "\n",
    "\n",
    "# 4."
   ],
   "metadata": {
    "collapsed": false
   }
  },
  {
   "cell_type": "code",
   "execution_count": 9,
   "outputs": [
    {
     "data": {
      "text/plain": "     equipement   port              interface_netwk    client portlldp  \\\n0      PTN00122  1/1/2   TO_PTN00022_LAG22_WDM_FTTA  PTN00022    8/1/2   \n1      PTN00122  2/1/3   TO_PTN00022_LAG22_WDM_FTTA  PTN00022    8/1/4   \n2      PTN00820  2/1/3           TO_PTN00821_LAG_21  PTN00821    1/1/3   \n3      PTN00820  2/1/4           TO_PTN00821_LAG_21  PTN00821    2/1/1   \n4      PTN00651  4/1/2            TO_PTN00042_LAG22  PTN00042    2/1/2   \n...         ...    ...                          ...       ...      ...   \n2825   PTN01404  1/1/2           TO_PTN01731_LAG-20  PTN01731    1/1/2   \n2826   PTN01404  1/1/3           TO_PTN01731_LAG-20  PTN01731    1/1/3   \n2827   PTN01404  2/1/2           TO_PTN00258_LAG-27  PTN00258  No LLDP   \n2828   PTN01404  2/1/3           TO_PTN00258_LAG-27  PTN00258  No LLDP   \n2829   PTN00018  2/1/3  TO_PTN00019_LAG_24_WDM_FTTA  PTN00019    1/1/3   \n\n     isis_level isis_metric nom_equipement_A role_A configuration_A  \\\n0             1          10         PTN00122      B        7750-SR7   \n1             1          10         PTN00122      B        7750-SR7   \n2             1          10         PTN00820      B        7750-SR7   \n3             1          10         PTN00820      B        7750-SR7   \n4             1          10         PTN00651      B        7750-SR7   \n...         ...         ...              ...    ...             ...   \n2825          1          10         PTN01404      B        7750-SR7   \n2826          1          10         PTN01404      B        7750-SR7   \n2827          1          10         PTN01404      B        7750-SR7   \n2828          1          10         PTN01404      B        7750-SR7   \n2829          1          40         PTN00018      B        7750-SR7   \n\n     region_exploitation_A nom_equipement_B role_B configuration_B  \\\n0                      IDF         PTN00122      B        7750-SR7   \n1                      IDF         PTN00122      B        7750-SR7   \n2                      WST         PTN00820      B        7750-SR7   \n3                      WST         PTN00820      B        7750-SR7   \n4                      MED         PTN00651      B        7750-SR7   \n...                    ...              ...    ...             ...   \n2825                   WST         PTN01404      B        7750-SR7   \n2826                   WST         PTN01404      B        7750-SR7   \n2827                   WST         PTN01404      B        7750-SR7   \n2828                   WST         PTN01404      B        7750-SR7   \n2829                   IDF         PTN00018      B        7750-SR7   \n\n     region_exploitation_B  \n0                      IDF  \n1                      IDF  \n2                      WST  \n3                      WST  \n4                      MED  \n...                    ...  \n2825                   WST  \n2826                   WST  \n2827                   WST  \n2828                   WST  \n2829                   IDF  \n\n[2830 rows x 15 columns]",
      "text/html": "<div>\n<style scoped>\n    .dataframe tbody tr th:only-of-type {\n        vertical-align: middle;\n    }\n\n    .dataframe tbody tr th {\n        vertical-align: top;\n    }\n\n    .dataframe thead th {\n        text-align: right;\n    }\n</style>\n<table border=\"1\" class=\"dataframe\">\n  <thead>\n    <tr style=\"text-align: right;\">\n      <th></th>\n      <th>equipement</th>\n      <th>port</th>\n      <th>interface_netwk</th>\n      <th>client</th>\n      <th>portlldp</th>\n      <th>isis_level</th>\n      <th>isis_metric</th>\n      <th>nom_equipement_A</th>\n      <th>role_A</th>\n      <th>configuration_A</th>\n      <th>region_exploitation_A</th>\n      <th>nom_equipement_B</th>\n      <th>role_B</th>\n      <th>configuration_B</th>\n      <th>region_exploitation_B</th>\n    </tr>\n  </thead>\n  <tbody>\n    <tr>\n      <th>0</th>\n      <td>PTN00122</td>\n      <td>1/1/2</td>\n      <td>TO_PTN00022_LAG22_WDM_FTTA</td>\n      <td>PTN00022</td>\n      <td>8/1/2</td>\n      <td>1</td>\n      <td>10</td>\n      <td>PTN00122</td>\n      <td>B</td>\n      <td>7750-SR7</td>\n      <td>IDF</td>\n      <td>PTN00122</td>\n      <td>B</td>\n      <td>7750-SR7</td>\n      <td>IDF</td>\n    </tr>\n    <tr>\n      <th>1</th>\n      <td>PTN00122</td>\n      <td>2/1/3</td>\n      <td>TO_PTN00022_LAG22_WDM_FTTA</td>\n      <td>PTN00022</td>\n      <td>8/1/4</td>\n      <td>1</td>\n      <td>10</td>\n      <td>PTN00122</td>\n      <td>B</td>\n      <td>7750-SR7</td>\n      <td>IDF</td>\n      <td>PTN00122</td>\n      <td>B</td>\n      <td>7750-SR7</td>\n      <td>IDF</td>\n    </tr>\n    <tr>\n      <th>2</th>\n      <td>PTN00820</td>\n      <td>2/1/3</td>\n      <td>TO_PTN00821_LAG_21</td>\n      <td>PTN00821</td>\n      <td>1/1/3</td>\n      <td>1</td>\n      <td>10</td>\n      <td>PTN00820</td>\n      <td>B</td>\n      <td>7750-SR7</td>\n      <td>WST</td>\n      <td>PTN00820</td>\n      <td>B</td>\n      <td>7750-SR7</td>\n      <td>WST</td>\n    </tr>\n    <tr>\n      <th>3</th>\n      <td>PTN00820</td>\n      <td>2/1/4</td>\n      <td>TO_PTN00821_LAG_21</td>\n      <td>PTN00821</td>\n      <td>2/1/1</td>\n      <td>1</td>\n      <td>10</td>\n      <td>PTN00820</td>\n      <td>B</td>\n      <td>7750-SR7</td>\n      <td>WST</td>\n      <td>PTN00820</td>\n      <td>B</td>\n      <td>7750-SR7</td>\n      <td>WST</td>\n    </tr>\n    <tr>\n      <th>4</th>\n      <td>PTN00651</td>\n      <td>4/1/2</td>\n      <td>TO_PTN00042_LAG22</td>\n      <td>PTN00042</td>\n      <td>2/1/2</td>\n      <td>1</td>\n      <td>10</td>\n      <td>PTN00651</td>\n      <td>B</td>\n      <td>7750-SR7</td>\n      <td>MED</td>\n      <td>PTN00651</td>\n      <td>B</td>\n      <td>7750-SR7</td>\n      <td>MED</td>\n    </tr>\n    <tr>\n      <th>...</th>\n      <td>...</td>\n      <td>...</td>\n      <td>...</td>\n      <td>...</td>\n      <td>...</td>\n      <td>...</td>\n      <td>...</td>\n      <td>...</td>\n      <td>...</td>\n      <td>...</td>\n      <td>...</td>\n      <td>...</td>\n      <td>...</td>\n      <td>...</td>\n      <td>...</td>\n    </tr>\n    <tr>\n      <th>2825</th>\n      <td>PTN01404</td>\n      <td>1/1/2</td>\n      <td>TO_PTN01731_LAG-20</td>\n      <td>PTN01731</td>\n      <td>1/1/2</td>\n      <td>1</td>\n      <td>10</td>\n      <td>PTN01404</td>\n      <td>B</td>\n      <td>7750-SR7</td>\n      <td>WST</td>\n      <td>PTN01404</td>\n      <td>B</td>\n      <td>7750-SR7</td>\n      <td>WST</td>\n    </tr>\n    <tr>\n      <th>2826</th>\n      <td>PTN01404</td>\n      <td>1/1/3</td>\n      <td>TO_PTN01731_LAG-20</td>\n      <td>PTN01731</td>\n      <td>1/1/3</td>\n      <td>1</td>\n      <td>10</td>\n      <td>PTN01404</td>\n      <td>B</td>\n      <td>7750-SR7</td>\n      <td>WST</td>\n      <td>PTN01404</td>\n      <td>B</td>\n      <td>7750-SR7</td>\n      <td>WST</td>\n    </tr>\n    <tr>\n      <th>2827</th>\n      <td>PTN01404</td>\n      <td>2/1/2</td>\n      <td>TO_PTN00258_LAG-27</td>\n      <td>PTN00258</td>\n      <td>No LLDP</td>\n      <td>1</td>\n      <td>10</td>\n      <td>PTN01404</td>\n      <td>B</td>\n      <td>7750-SR7</td>\n      <td>WST</td>\n      <td>PTN01404</td>\n      <td>B</td>\n      <td>7750-SR7</td>\n      <td>WST</td>\n    </tr>\n    <tr>\n      <th>2828</th>\n      <td>PTN01404</td>\n      <td>2/1/3</td>\n      <td>TO_PTN00258_LAG-27</td>\n      <td>PTN00258</td>\n      <td>No LLDP</td>\n      <td>1</td>\n      <td>10</td>\n      <td>PTN01404</td>\n      <td>B</td>\n      <td>7750-SR7</td>\n      <td>WST</td>\n      <td>PTN01404</td>\n      <td>B</td>\n      <td>7750-SR7</td>\n      <td>WST</td>\n    </tr>\n    <tr>\n      <th>2829</th>\n      <td>PTN00018</td>\n      <td>2/1/3</td>\n      <td>TO_PTN00019_LAG_24_WDM_FTTA</td>\n      <td>PTN00019</td>\n      <td>1/1/3</td>\n      <td>1</td>\n      <td>40</td>\n      <td>PTN00018</td>\n      <td>B</td>\n      <td>7750-SR7</td>\n      <td>IDF</td>\n      <td>PTN00018</td>\n      <td>B</td>\n      <td>7750-SR7</td>\n      <td>IDF</td>\n    </tr>\n  </tbody>\n</table>\n<p>2830 rows × 15 columns</p>\n</div>"
     },
     "execution_count": 9,
     "metadata": {},
     "output_type": "execute_result"
    }
   ],
   "source": [
    "# check the merge result\n",
    "merged_result.toPandas()"
   ],
   "metadata": {
    "collapsed": false
   }
  },
  {
   "cell_type": "code",
   "execution_count": null,
   "outputs": [],
   "source": [],
   "metadata": {
    "collapsed": false
   }
  }
 ],
 "metadata": {
  "kernelspec": {
   "display_name": "Python 3",
   "language": "python",
   "name": "python3"
  },
  "language_info": {
   "codemirror_mode": {
    "name": "ipython",
    "version": 2
   },
   "file_extension": ".py",
   "mimetype": "text/x-python",
   "name": "python",
   "nbconvert_exporter": "python",
   "pygments_lexer": "ipython2",
   "version": "2.7.6"
  }
 },
 "nbformat": 4,
 "nbformat_minor": 0
}
